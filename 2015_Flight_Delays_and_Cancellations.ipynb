{
  "nbformat": 4,
  "nbformat_minor": 0,
  "metadata": {
    "colab": {
      "provenance": [],
      "authorship_tag": "ABX9TyMpt2YrC4xV7z5oPwH13S6L",
      "include_colab_link": true
    },
    "kernelspec": {
      "name": "python3",
      "display_name": "Python 3"
    },
    "language_info": {
      "name": "python"
    }
  },
  "cells": [
    {
      "cell_type": "markdown",
      "metadata": {
        "id": "view-in-github",
        "colab_type": "text"
      },
      "source": [
        "<a href=\"https://colab.research.google.com/github/15483114/colab-notebooks/blob/main/2015_Flight_Delays_and_Cancellations.ipynb\" target=\"_parent\"><img src=\"https://colab.research.google.com/assets/colab-badge.svg\" alt=\"Open In Colab\"/></a>"
      ]
    },
    {
      "cell_type": "markdown",
      "source": [
        "# **2015 Flight Delays and Cancellations**\n",
        "\n",
        "Neste notebook será analisado o dataset de atrasos e cancelamentos de voos em 2015.\n",
        "\n",
        "O objetivo é descobrir se é possível obter um bom modelo de classificação para prever se um voo irá atrasar ou não dadas as variáveis coletadas para a criação do dataset."
      ],
      "metadata": {
        "id": "rV3yx6PJySVT"
      }
    },
    {
      "cell_type": "markdown",
      "source": [
        "# Importando Dataset"
      ],
      "metadata": {
        "id": "j8NYK3ZzL_f9"
      }
    },
    {
      "cell_type": "code",
      "execution_count": 1,
      "metadata": {
        "id": "9LTaLJ1VLNlI",
        "colab": {
          "base_uri": "https://localhost:8080/"
        },
        "outputId": "fe875845-3ad7-483f-d6fa-5030fc3a7f4e"
      },
      "outputs": [
        {
          "output_type": "stream",
          "name": "stderr",
          "text": [
            "/usr/local/lib/python3.8/dist-packages/IPython/core/interactiveshell.py:3326: FutureWarning: The error_bad_lines argument has been deprecated and will be removed in a future version.\n",
            "\n",
            "\n",
            "  exec(code_obj, self.user_global_ns, self.user_ns)\n",
            "/usr/local/lib/python3.8/dist-packages/IPython/core/interactiveshell.py:3326: DtypeWarning: Columns (7,8) have mixed types.Specify dtype option on import or set low_memory=False.\n",
            "  exec(code_obj, self.user_global_ns, self.user_ns)\n"
          ]
        }
      ],
      "source": [
        "import pandas as pd\n",
        "\n",
        "airlines = pd.read_csv('/content/airlines.csv')\n",
        "airports = pd.read_csv('/content/airports.csv')\n",
        "flights = pd.read_csv('/content/flights.csv', error_bad_lines=False)"
      ]
    },
    {
      "cell_type": "markdown",
      "source": [
        "# Explorando os datasets"
      ],
      "metadata": {
        "id": "sQKUo2IoMWB0"
      }
    },
    {
      "cell_type": "code",
      "source": [
        "flights.info()"
      ],
      "metadata": {
        "id": "4JPAVs_r8PNt",
        "colab": {
          "base_uri": "https://localhost:8080/"
        },
        "outputId": "3bfb17c8-68d3-459f-b053-2098d0f9bb78"
      },
      "execution_count": 2,
      "outputs": [
        {
          "output_type": "stream",
          "name": "stdout",
          "text": [
            "<class 'pandas.core.frame.DataFrame'>\n",
            "RangeIndex: 5819079 entries, 0 to 5819078\n",
            "Data columns (total 31 columns):\n",
            " #   Column               Dtype  \n",
            "---  ------               -----  \n",
            " 0   YEAR                 int64  \n",
            " 1   MONTH                int64  \n",
            " 2   DAY                  int64  \n",
            " 3   DAY_OF_WEEK          int64  \n",
            " 4   AIRLINE              object \n",
            " 5   FLIGHT_NUMBER        int64  \n",
            " 6   TAIL_NUMBER          object \n",
            " 7   ORIGIN_AIRPORT       object \n",
            " 8   DESTINATION_AIRPORT  object \n",
            " 9   SCHEDULED_DEPARTURE  int64  \n",
            " 10  DEPARTURE_TIME       float64\n",
            " 11  DEPARTURE_DELAY      float64\n",
            " 12  TAXI_OUT             float64\n",
            " 13  WHEELS_OFF           float64\n",
            " 14  SCHEDULED_TIME       float64\n",
            " 15  ELAPSED_TIME         float64\n",
            " 16  AIR_TIME             float64\n",
            " 17  DISTANCE             int64  \n",
            " 18  WHEELS_ON            float64\n",
            " 19  TAXI_IN              float64\n",
            " 20  SCHEDULED_ARRIVAL    int64  \n",
            " 21  ARRIVAL_TIME         float64\n",
            " 22  ARRIVAL_DELAY        float64\n",
            " 23  DIVERTED             int64  \n",
            " 24  CANCELLED            int64  \n",
            " 25  CANCELLATION_REASON  object \n",
            " 26  AIR_SYSTEM_DELAY     float64\n",
            " 27  SECURITY_DELAY       float64\n",
            " 28  AIRLINE_DELAY        float64\n",
            " 29  LATE_AIRCRAFT_DELAY  float64\n",
            " 30  WEATHER_DELAY        float64\n",
            "dtypes: float64(16), int64(10), object(5)\n",
            "memory usage: 1.3+ GB\n"
          ]
        }
      ]
    },
    {
      "cell_type": "markdown",
      "source": [
        "Visualizando a equivalência do código para cada companhia aérea"
      ],
      "metadata": {
        "id": "SWn_NPalBArD"
      }
    },
    {
      "cell_type": "code",
      "source": [
        "airlines"
      ],
      "metadata": {
        "colab": {
          "base_uri": "https://localhost:8080/",
          "height": 488
        },
        "id": "ATdrWcrFd0hM",
        "outputId": "c41513b0-df0d-4851-c85d-55985f33e570"
      },
      "execution_count": 3,
      "outputs": [
        {
          "output_type": "execute_result",
          "data": {
            "text/plain": [
              "   IATA_CODE                       AIRLINE\n",
              "0         UA         United Air Lines Inc.\n",
              "1         AA        American Airlines Inc.\n",
              "2         US               US Airways Inc.\n",
              "3         F9        Frontier Airlines Inc.\n",
              "4         B6               JetBlue Airways\n",
              "5         OO         Skywest Airlines Inc.\n",
              "6         AS          Alaska Airlines Inc.\n",
              "7         NK              Spirit Air Lines\n",
              "8         WN        Southwest Airlines Co.\n",
              "9         DL          Delta Air Lines Inc.\n",
              "10        EV   Atlantic Southeast Airlines\n",
              "11        HA        Hawaiian Airlines Inc.\n",
              "12        MQ  American Eagle Airlines Inc.\n",
              "13        VX                Virgin America"
            ],
            "text/html": [
              "\n",
              "  <div id=\"df-469dff3e-a86d-4954-9bc6-654f0358749e\">\n",
              "    <div class=\"colab-df-container\">\n",
              "      <div>\n",
              "<style scoped>\n",
              "    .dataframe tbody tr th:only-of-type {\n",
              "        vertical-align: middle;\n",
              "    }\n",
              "\n",
              "    .dataframe tbody tr th {\n",
              "        vertical-align: top;\n",
              "    }\n",
              "\n",
              "    .dataframe thead th {\n",
              "        text-align: right;\n",
              "    }\n",
              "</style>\n",
              "<table border=\"1\" class=\"dataframe\">\n",
              "  <thead>\n",
              "    <tr style=\"text-align: right;\">\n",
              "      <th></th>\n",
              "      <th>IATA_CODE</th>\n",
              "      <th>AIRLINE</th>\n",
              "    </tr>\n",
              "  </thead>\n",
              "  <tbody>\n",
              "    <tr>\n",
              "      <th>0</th>\n",
              "      <td>UA</td>\n",
              "      <td>United Air Lines Inc.</td>\n",
              "    </tr>\n",
              "    <tr>\n",
              "      <th>1</th>\n",
              "      <td>AA</td>\n",
              "      <td>American Airlines Inc.</td>\n",
              "    </tr>\n",
              "    <tr>\n",
              "      <th>2</th>\n",
              "      <td>US</td>\n",
              "      <td>US Airways Inc.</td>\n",
              "    </tr>\n",
              "    <tr>\n",
              "      <th>3</th>\n",
              "      <td>F9</td>\n",
              "      <td>Frontier Airlines Inc.</td>\n",
              "    </tr>\n",
              "    <tr>\n",
              "      <th>4</th>\n",
              "      <td>B6</td>\n",
              "      <td>JetBlue Airways</td>\n",
              "    </tr>\n",
              "    <tr>\n",
              "      <th>5</th>\n",
              "      <td>OO</td>\n",
              "      <td>Skywest Airlines Inc.</td>\n",
              "    </tr>\n",
              "    <tr>\n",
              "      <th>6</th>\n",
              "      <td>AS</td>\n",
              "      <td>Alaska Airlines Inc.</td>\n",
              "    </tr>\n",
              "    <tr>\n",
              "      <th>7</th>\n",
              "      <td>NK</td>\n",
              "      <td>Spirit Air Lines</td>\n",
              "    </tr>\n",
              "    <tr>\n",
              "      <th>8</th>\n",
              "      <td>WN</td>\n",
              "      <td>Southwest Airlines Co.</td>\n",
              "    </tr>\n",
              "    <tr>\n",
              "      <th>9</th>\n",
              "      <td>DL</td>\n",
              "      <td>Delta Air Lines Inc.</td>\n",
              "    </tr>\n",
              "    <tr>\n",
              "      <th>10</th>\n",
              "      <td>EV</td>\n",
              "      <td>Atlantic Southeast Airlines</td>\n",
              "    </tr>\n",
              "    <tr>\n",
              "      <th>11</th>\n",
              "      <td>HA</td>\n",
              "      <td>Hawaiian Airlines Inc.</td>\n",
              "    </tr>\n",
              "    <tr>\n",
              "      <th>12</th>\n",
              "      <td>MQ</td>\n",
              "      <td>American Eagle Airlines Inc.</td>\n",
              "    </tr>\n",
              "    <tr>\n",
              "      <th>13</th>\n",
              "      <td>VX</td>\n",
              "      <td>Virgin America</td>\n",
              "    </tr>\n",
              "  </tbody>\n",
              "</table>\n",
              "</div>\n",
              "      <button class=\"colab-df-convert\" onclick=\"convertToInteractive('df-469dff3e-a86d-4954-9bc6-654f0358749e')\"\n",
              "              title=\"Convert this dataframe to an interactive table.\"\n",
              "              style=\"display:none;\">\n",
              "        \n",
              "  <svg xmlns=\"http://www.w3.org/2000/svg\" height=\"24px\"viewBox=\"0 0 24 24\"\n",
              "       width=\"24px\">\n",
              "    <path d=\"M0 0h24v24H0V0z\" fill=\"none\"/>\n",
              "    <path d=\"M18.56 5.44l.94 2.06.94-2.06 2.06-.94-2.06-.94-.94-2.06-.94 2.06-2.06.94zm-11 1L8.5 8.5l.94-2.06 2.06-.94-2.06-.94L8.5 2.5l-.94 2.06-2.06.94zm10 10l.94 2.06.94-2.06 2.06-.94-2.06-.94-.94-2.06-.94 2.06-2.06.94z\"/><path d=\"M17.41 7.96l-1.37-1.37c-.4-.4-.92-.59-1.43-.59-.52 0-1.04.2-1.43.59L10.3 9.45l-7.72 7.72c-.78.78-.78 2.05 0 2.83L4 21.41c.39.39.9.59 1.41.59.51 0 1.02-.2 1.41-.59l7.78-7.78 2.81-2.81c.8-.78.8-2.07 0-2.86zM5.41 20L4 18.59l7.72-7.72 1.47 1.35L5.41 20z\"/>\n",
              "  </svg>\n",
              "      </button>\n",
              "      \n",
              "  <style>\n",
              "    .colab-df-container {\n",
              "      display:flex;\n",
              "      flex-wrap:wrap;\n",
              "      gap: 12px;\n",
              "    }\n",
              "\n",
              "    .colab-df-convert {\n",
              "      background-color: #E8F0FE;\n",
              "      border: none;\n",
              "      border-radius: 50%;\n",
              "      cursor: pointer;\n",
              "      display: none;\n",
              "      fill: #1967D2;\n",
              "      height: 32px;\n",
              "      padding: 0 0 0 0;\n",
              "      width: 32px;\n",
              "    }\n",
              "\n",
              "    .colab-df-convert:hover {\n",
              "      background-color: #E2EBFA;\n",
              "      box-shadow: 0px 1px 2px rgba(60, 64, 67, 0.3), 0px 1px 3px 1px rgba(60, 64, 67, 0.15);\n",
              "      fill: #174EA6;\n",
              "    }\n",
              "\n",
              "    [theme=dark] .colab-df-convert {\n",
              "      background-color: #3B4455;\n",
              "      fill: #D2E3FC;\n",
              "    }\n",
              "\n",
              "    [theme=dark] .colab-df-convert:hover {\n",
              "      background-color: #434B5C;\n",
              "      box-shadow: 0px 1px 3px 1px rgba(0, 0, 0, 0.15);\n",
              "      filter: drop-shadow(0px 1px 2px rgba(0, 0, 0, 0.3));\n",
              "      fill: #FFFFFF;\n",
              "    }\n",
              "  </style>\n",
              "\n",
              "      <script>\n",
              "        const buttonEl =\n",
              "          document.querySelector('#df-469dff3e-a86d-4954-9bc6-654f0358749e button.colab-df-convert');\n",
              "        buttonEl.style.display =\n",
              "          google.colab.kernel.accessAllowed ? 'block' : 'none';\n",
              "\n",
              "        async function convertToInteractive(key) {\n",
              "          const element = document.querySelector('#df-469dff3e-a86d-4954-9bc6-654f0358749e');\n",
              "          const dataTable =\n",
              "            await google.colab.kernel.invokeFunction('convertToInteractive',\n",
              "                                                     [key], {});\n",
              "          if (!dataTable) return;\n",
              "\n",
              "          const docLinkHtml = 'Like what you see? Visit the ' +\n",
              "            '<a target=\"_blank\" href=https://colab.research.google.com/notebooks/data_table.ipynb>data table notebook</a>'\n",
              "            + ' to learn more about interactive tables.';\n",
              "          element.innerHTML = '';\n",
              "          dataTable['output_type'] = 'display_data';\n",
              "          await google.colab.output.renderOutput(dataTable, element);\n",
              "          const docLink = document.createElement('div');\n",
              "          docLink.innerHTML = docLinkHtml;\n",
              "          element.appendChild(docLink);\n",
              "        }\n",
              "      </script>\n",
              "    </div>\n",
              "  </div>\n",
              "  "
            ]
          },
          "metadata": {},
          "execution_count": 3
        }
      ]
    },
    {
      "cell_type": "markdown",
      "source": [
        "Visualizando a equivalência do código para cada aeroporto"
      ],
      "metadata": {
        "id": "wFuYMdQeBQZj"
      }
    },
    {
      "cell_type": "code",
      "source": [
        "airports"
      ],
      "metadata": {
        "colab": {
          "base_uri": "https://localhost:8080/",
          "height": 424
        },
        "id": "vmv_6-89gDw3",
        "outputId": "d1fdd073-5887-4d36-d926-4c1b525ab86a"
      },
      "execution_count": 4,
      "outputs": [
        {
          "output_type": "execute_result",
          "data": {
            "text/plain": [
              "    IATA_CODE                              AIRPORT  \\\n",
              "0         ABE  Lehigh Valley International Airport   \n",
              "1         ABI             Abilene Regional Airport   \n",
              "2         ABQ    Albuquerque International Sunport   \n",
              "3         ABR            Aberdeen Regional Airport   \n",
              "4         ABY   Southwest Georgia Regional Airport   \n",
              "..        ...                                  ...   \n",
              "317       WRG                     Wrangell Airport   \n",
              "318       WYS               Westerly State Airport   \n",
              "319       XNA  Northwest Arkansas Regional Airport   \n",
              "320       YAK                      Yakutat Airport   \n",
              "321       YUM           Yuma International Airport   \n",
              "\n",
              "                               CITY STATE COUNTRY  LATITUDE  LONGITUDE  \n",
              "0                         Allentown    PA     USA  40.65236  -75.44040  \n",
              "1                           Abilene    TX     USA  32.41132  -99.68190  \n",
              "2                       Albuquerque    NM     USA  35.04022 -106.60919  \n",
              "3                          Aberdeen    SD     USA  45.44906  -98.42183  \n",
              "4                            Albany    GA     USA  31.53552  -84.19447  \n",
              "..                              ...   ...     ...       ...        ...  \n",
              "317                        Wrangell    AK     USA  56.48433 -132.36982  \n",
              "318                West Yellowstone    MT     USA  44.68840 -111.11764  \n",
              "319  Fayetteville/Springdale/Rogers    AR     USA  36.28187  -94.30681  \n",
              "320                         Yakutat    AK     USA  59.50336 -139.66023  \n",
              "321                            Yuma    AZ     USA  32.65658 -114.60597  \n",
              "\n",
              "[322 rows x 7 columns]"
            ],
            "text/html": [
              "\n",
              "  <div id=\"df-06e606a6-8d00-4b2c-963f-b3ea2c1ebfa8\">\n",
              "    <div class=\"colab-df-container\">\n",
              "      <div>\n",
              "<style scoped>\n",
              "    .dataframe tbody tr th:only-of-type {\n",
              "        vertical-align: middle;\n",
              "    }\n",
              "\n",
              "    .dataframe tbody tr th {\n",
              "        vertical-align: top;\n",
              "    }\n",
              "\n",
              "    .dataframe thead th {\n",
              "        text-align: right;\n",
              "    }\n",
              "</style>\n",
              "<table border=\"1\" class=\"dataframe\">\n",
              "  <thead>\n",
              "    <tr style=\"text-align: right;\">\n",
              "      <th></th>\n",
              "      <th>IATA_CODE</th>\n",
              "      <th>AIRPORT</th>\n",
              "      <th>CITY</th>\n",
              "      <th>STATE</th>\n",
              "      <th>COUNTRY</th>\n",
              "      <th>LATITUDE</th>\n",
              "      <th>LONGITUDE</th>\n",
              "    </tr>\n",
              "  </thead>\n",
              "  <tbody>\n",
              "    <tr>\n",
              "      <th>0</th>\n",
              "      <td>ABE</td>\n",
              "      <td>Lehigh Valley International Airport</td>\n",
              "      <td>Allentown</td>\n",
              "      <td>PA</td>\n",
              "      <td>USA</td>\n",
              "      <td>40.65236</td>\n",
              "      <td>-75.44040</td>\n",
              "    </tr>\n",
              "    <tr>\n",
              "      <th>1</th>\n",
              "      <td>ABI</td>\n",
              "      <td>Abilene Regional Airport</td>\n",
              "      <td>Abilene</td>\n",
              "      <td>TX</td>\n",
              "      <td>USA</td>\n",
              "      <td>32.41132</td>\n",
              "      <td>-99.68190</td>\n",
              "    </tr>\n",
              "    <tr>\n",
              "      <th>2</th>\n",
              "      <td>ABQ</td>\n",
              "      <td>Albuquerque International Sunport</td>\n",
              "      <td>Albuquerque</td>\n",
              "      <td>NM</td>\n",
              "      <td>USA</td>\n",
              "      <td>35.04022</td>\n",
              "      <td>-106.60919</td>\n",
              "    </tr>\n",
              "    <tr>\n",
              "      <th>3</th>\n",
              "      <td>ABR</td>\n",
              "      <td>Aberdeen Regional Airport</td>\n",
              "      <td>Aberdeen</td>\n",
              "      <td>SD</td>\n",
              "      <td>USA</td>\n",
              "      <td>45.44906</td>\n",
              "      <td>-98.42183</td>\n",
              "    </tr>\n",
              "    <tr>\n",
              "      <th>4</th>\n",
              "      <td>ABY</td>\n",
              "      <td>Southwest Georgia Regional Airport</td>\n",
              "      <td>Albany</td>\n",
              "      <td>GA</td>\n",
              "      <td>USA</td>\n",
              "      <td>31.53552</td>\n",
              "      <td>-84.19447</td>\n",
              "    </tr>\n",
              "    <tr>\n",
              "      <th>...</th>\n",
              "      <td>...</td>\n",
              "      <td>...</td>\n",
              "      <td>...</td>\n",
              "      <td>...</td>\n",
              "      <td>...</td>\n",
              "      <td>...</td>\n",
              "      <td>...</td>\n",
              "    </tr>\n",
              "    <tr>\n",
              "      <th>317</th>\n",
              "      <td>WRG</td>\n",
              "      <td>Wrangell Airport</td>\n",
              "      <td>Wrangell</td>\n",
              "      <td>AK</td>\n",
              "      <td>USA</td>\n",
              "      <td>56.48433</td>\n",
              "      <td>-132.36982</td>\n",
              "    </tr>\n",
              "    <tr>\n",
              "      <th>318</th>\n",
              "      <td>WYS</td>\n",
              "      <td>Westerly State Airport</td>\n",
              "      <td>West Yellowstone</td>\n",
              "      <td>MT</td>\n",
              "      <td>USA</td>\n",
              "      <td>44.68840</td>\n",
              "      <td>-111.11764</td>\n",
              "    </tr>\n",
              "    <tr>\n",
              "      <th>319</th>\n",
              "      <td>XNA</td>\n",
              "      <td>Northwest Arkansas Regional Airport</td>\n",
              "      <td>Fayetteville/Springdale/Rogers</td>\n",
              "      <td>AR</td>\n",
              "      <td>USA</td>\n",
              "      <td>36.28187</td>\n",
              "      <td>-94.30681</td>\n",
              "    </tr>\n",
              "    <tr>\n",
              "      <th>320</th>\n",
              "      <td>YAK</td>\n",
              "      <td>Yakutat Airport</td>\n",
              "      <td>Yakutat</td>\n",
              "      <td>AK</td>\n",
              "      <td>USA</td>\n",
              "      <td>59.50336</td>\n",
              "      <td>-139.66023</td>\n",
              "    </tr>\n",
              "    <tr>\n",
              "      <th>321</th>\n",
              "      <td>YUM</td>\n",
              "      <td>Yuma International Airport</td>\n",
              "      <td>Yuma</td>\n",
              "      <td>AZ</td>\n",
              "      <td>USA</td>\n",
              "      <td>32.65658</td>\n",
              "      <td>-114.60597</td>\n",
              "    </tr>\n",
              "  </tbody>\n",
              "</table>\n",
              "<p>322 rows × 7 columns</p>\n",
              "</div>\n",
              "      <button class=\"colab-df-convert\" onclick=\"convertToInteractive('df-06e606a6-8d00-4b2c-963f-b3ea2c1ebfa8')\"\n",
              "              title=\"Convert this dataframe to an interactive table.\"\n",
              "              style=\"display:none;\">\n",
              "        \n",
              "  <svg xmlns=\"http://www.w3.org/2000/svg\" height=\"24px\"viewBox=\"0 0 24 24\"\n",
              "       width=\"24px\">\n",
              "    <path d=\"M0 0h24v24H0V0z\" fill=\"none\"/>\n",
              "    <path d=\"M18.56 5.44l.94 2.06.94-2.06 2.06-.94-2.06-.94-.94-2.06-.94 2.06-2.06.94zm-11 1L8.5 8.5l.94-2.06 2.06-.94-2.06-.94L8.5 2.5l-.94 2.06-2.06.94zm10 10l.94 2.06.94-2.06 2.06-.94-2.06-.94-.94-2.06-.94 2.06-2.06.94z\"/><path d=\"M17.41 7.96l-1.37-1.37c-.4-.4-.92-.59-1.43-.59-.52 0-1.04.2-1.43.59L10.3 9.45l-7.72 7.72c-.78.78-.78 2.05 0 2.83L4 21.41c.39.39.9.59 1.41.59.51 0 1.02-.2 1.41-.59l7.78-7.78 2.81-2.81c.8-.78.8-2.07 0-2.86zM5.41 20L4 18.59l7.72-7.72 1.47 1.35L5.41 20z\"/>\n",
              "  </svg>\n",
              "      </button>\n",
              "      \n",
              "  <style>\n",
              "    .colab-df-container {\n",
              "      display:flex;\n",
              "      flex-wrap:wrap;\n",
              "      gap: 12px;\n",
              "    }\n",
              "\n",
              "    .colab-df-convert {\n",
              "      background-color: #E8F0FE;\n",
              "      border: none;\n",
              "      border-radius: 50%;\n",
              "      cursor: pointer;\n",
              "      display: none;\n",
              "      fill: #1967D2;\n",
              "      height: 32px;\n",
              "      padding: 0 0 0 0;\n",
              "      width: 32px;\n",
              "    }\n",
              "\n",
              "    .colab-df-convert:hover {\n",
              "      background-color: #E2EBFA;\n",
              "      box-shadow: 0px 1px 2px rgba(60, 64, 67, 0.3), 0px 1px 3px 1px rgba(60, 64, 67, 0.15);\n",
              "      fill: #174EA6;\n",
              "    }\n",
              "\n",
              "    [theme=dark] .colab-df-convert {\n",
              "      background-color: #3B4455;\n",
              "      fill: #D2E3FC;\n",
              "    }\n",
              "\n",
              "    [theme=dark] .colab-df-convert:hover {\n",
              "      background-color: #434B5C;\n",
              "      box-shadow: 0px 1px 3px 1px rgba(0, 0, 0, 0.15);\n",
              "      filter: drop-shadow(0px 1px 2px rgba(0, 0, 0, 0.3));\n",
              "      fill: #FFFFFF;\n",
              "    }\n",
              "  </style>\n",
              "\n",
              "      <script>\n",
              "        const buttonEl =\n",
              "          document.querySelector('#df-06e606a6-8d00-4b2c-963f-b3ea2c1ebfa8 button.colab-df-convert');\n",
              "        buttonEl.style.display =\n",
              "          google.colab.kernel.accessAllowed ? 'block' : 'none';\n",
              "\n",
              "        async function convertToInteractive(key) {\n",
              "          const element = document.querySelector('#df-06e606a6-8d00-4b2c-963f-b3ea2c1ebfa8');\n",
              "          const dataTable =\n",
              "            await google.colab.kernel.invokeFunction('convertToInteractive',\n",
              "                                                     [key], {});\n",
              "          if (!dataTable) return;\n",
              "\n",
              "          const docLinkHtml = 'Like what you see? Visit the ' +\n",
              "            '<a target=\"_blank\" href=https://colab.research.google.com/notebooks/data_table.ipynb>data table notebook</a>'\n",
              "            + ' to learn more about interactive tables.';\n",
              "          element.innerHTML = '';\n",
              "          dataTable['output_type'] = 'display_data';\n",
              "          await google.colab.output.renderOutput(dataTable, element);\n",
              "          const docLink = document.createElement('div');\n",
              "          docLink.innerHTML = docLinkHtml;\n",
              "          element.appendChild(docLink);\n",
              "        }\n",
              "      </script>\n",
              "    </div>\n",
              "  </div>\n",
              "  "
            ]
          },
          "metadata": {},
          "execution_count": 4
        }
      ]
    },
    {
      "cell_type": "markdown",
      "source": [
        "# **Analisando a relação entre atrasos e companias aereas**"
      ],
      "metadata": {
        "id": "cYLgYRiZcXRM"
      }
    },
    {
      "cell_type": "markdown",
      "source": [
        "Visualizando os atrasos por companhia aérea"
      ],
      "metadata": {
        "id": "hcgpH_ZZtjjz"
      }
    },
    {
      "cell_type": "code",
      "source": [
        "import matplotlib.pyplot as plt\n",
        "import seaborn as sns\n",
        "\n",
        "sns.scatterplot(data = flights, x = \"ARRIVAL_DELAY\", y = \"AIRLINE\")\n",
        "\n",
        "plt.show()"
      ],
      "metadata": {
        "colab": {
          "base_uri": "https://localhost:8080/",
          "height": 280
        },
        "id": "Z9gKvenAbGMb",
        "outputId": "4912f1e9-5f6f-4309-d2ad-dd56c784c44b"
      },
      "execution_count": 5,
      "outputs": [
        {
          "output_type": "display_data",
          "data": {
            "text/plain": [
              "<Figure size 432x288 with 1 Axes>"
            ],
            "image/png": "[encoded data removed]"
          },
          "metadata": {
            "needs_background": "light"
          }
        }
      ]
    },
    {
      "cell_type": "markdown",
      "source": [
        "Verificando a proporção de atrasos por companhia aérea\n",
        "\n"
      ],
      "metadata": {
        "id": "uKFZuR6CPgYL"
      }
    },
    {
      "cell_type": "markdown",
      "source": [
        "Criando a coluna Atrasado com variáveis binárias (0 ou 1)"
      ],
      "metadata": {
        "id": "ppUNJ_W_2q9t"
      }
    },
    {
      "cell_type": "code",
      "source": [
        "array=[]\n",
        "for x in flights['ARRIVAL_DELAY']:\n",
        "  variable = 1 if x>0 else 0\n",
        "  array.append(variable)\n",
        "\n",
        "flights['Atrasado'] = array"
      ],
      "metadata": {
        "id": "Yf3pUvcBDzrW"
      },
      "execution_count": 6,
      "outputs": []
    },
    {
      "cell_type": "markdown",
      "source": [
        "Criando a tabela com proporção de atraso por linha aérea"
      ],
      "metadata": {
        "id": "mq38DRfW2WMD"
      }
    },
    {
      "cell_type": "code",
      "source": [
        "import numpy as np\n",
        "\n",
        "delay_occurencies = np.array([])\n",
        "delay_occurencies_percentage = np.array([])\n",
        "\n",
        "for airline in airlines['IATA_CODE'].values:\n",
        "  atrasou = flights[flights[\"AIRLINE\"] == airline][[\"Atrasado\"]].value_counts(sort = 0)[1]\n",
        "  delay_occurencies = np.append(delay_occurencies,atrasou)\n",
        "\n",
        "  total = len(flights[flights[\"AIRLINE\"] == airline][[\"Atrasado\"]])\n",
        "  atrasado = flights[flights[\"AIRLINE\"] == airline][[\"Atrasado\"]].value_counts()[1]\n",
        "  porcentagem = (atrasado/total)*100\n",
        "  delay_occurencies_percentage = np.append(delay_occurencies_percentage,porcentagem)"
      ],
      "metadata": {
        "id": "9c6dk6NHXd_0"
      },
      "execution_count": 7,
      "outputs": []
    },
    {
      "cell_type": "code",
      "source": [
        "import numpy as np\n",
        "\n",
        "atraso_por_linha_aerea = []\n",
        "\n",
        "for airline in flights['AIRLINE'].unique():\n",
        "  nova_linha = {}\n",
        "  nova_linha[\"Airline\"] = airline\n",
        "  total = len(flights[flights[\"AIRLINE\"] == airline][[\"Atrasado\"]])\n",
        "  atrasado = flights[flights[\"AIRLINE\"] == airline][[\"Atrasado\"]].value_counts()[1]\n",
        "  porcentagem = (atrasado/total)*100\n",
        "  nova_linha[\"Porcentagem\"] = porcentagem\n",
        "  atraso_por_linha_aerea.append(nova_linha)\n",
        "\n",
        "atraso_por_linha_aerea"
      ],
      "metadata": {
        "colab": {
          "base_uri": "https://localhost:8080/"
        },
        "id": "70pFGMya3fFS",
        "outputId": "80e4fbab-e2f2-4231-90c2-10e071a40572"
      },
      "execution_count": 8,
      "outputs": [
        {
          "output_type": "execute_result",
          "data": {
            "text/plain": [
              "[{'Airline': 'AS', 'Porcentagem': 33.0122130059529},\n",
              " {'Airline': 'AA', 'Porcentagem': 34.73781791334245},\n",
              " {'Airline': 'US', 'Porcentagem': 38.389150290617216},\n",
              " {'Airline': 'DL', 'Porcentagem': 28.638593598902133},\n",
              " {'Airline': 'NK', 'Porcentagem': 48.46437608090033},\n",
              " {'Airline': 'UA', 'Porcentagem': 36.10988844786833},\n",
              " {'Airline': 'HA', 'Porcentagem': 39.56760016782043},\n",
              " {'Airline': 'B6', 'Porcentagem': 38.194631676702315},\n",
              " {'Airline': 'OO', 'Porcentagem': 37.806384942373036},\n",
              " {'Airline': 'EV', 'Porcentagem': 37.27719820901889},\n",
              " {'Airline': 'MQ', 'Porcentagem': 35.130264193977574},\n",
              " {'Airline': 'F9', 'Porcentagem': 45.39169492271787},\n",
              " {'Airline': 'WN', 'Porcentagem': 37.307535334883966},\n",
              " {'Airline': 'VX', 'Porcentagem': 39.06111173933412}]"
            ]
          },
          "metadata": {},
          "execution_count": 8
        }
      ]
    },
    {
      "cell_type": "code",
      "source": [
        "# Creates DataFrame.  \n",
        "df = pd.DataFrame(atraso_por_linha_aerea)  \n",
        "df"
      ],
      "metadata": {
        "colab": {
          "base_uri": "https://localhost:8080/",
          "height": 488
        },
        "id": "xvK_ljl46NBi",
        "outputId": "edda3905-96de-46f7-dfbc-1a29dea20588"
      },
      "execution_count": 9,
      "outputs": [
        {
          "output_type": "execute_result",
          "data": {
            "text/plain": [
              "   Airline  Porcentagem\n",
              "0       AS    33.012213\n",
              "1       AA    34.737818\n",
              "2       US    38.389150\n",
              "3       DL    28.638594\n",
              "4       NK    48.464376\n",
              "5       UA    36.109888\n",
              "6       HA    39.567600\n",
              "7       B6    38.194632\n",
              "8       OO    37.806385\n",
              "9       EV    37.277198\n",
              "10      MQ    35.130264\n",
              "11      F9    45.391695\n",
              "12      WN    37.307535\n",
              "13      VX    39.061112"
            ],
            "text/html": [
              "\n",
              "  <div id=\"df-979969f1-8d2d-41d5-ae9e-7f6099c28039\">\n",
              "    <div class=\"colab-df-container\">\n",
              "      <div>\n",
              "<style scoped>\n",
              "    .dataframe tbody tr th:only-of-type {\n",
              "        vertical-align: middle;\n",
              "    }\n",
              "\n",
              "    .dataframe tbody tr th {\n",
              "        vertical-align: top;\n",
              "    }\n",
              "\n",
              "    .dataframe thead th {\n",
              "        text-align: right;\n",
              "    }\n",
              "</style>\n",
              "<table border=\"1\" class=\"dataframe\">\n",
              "  <thead>\n",
              "    <tr style=\"text-align: right;\">\n",
              "      <th></th>\n",
              "      <th>Airline</th>\n",
              "      <th>Porcentagem</th>\n",
              "    </tr>\n",
              "  </thead>\n",
              "  <tbody>\n",
              "    <tr>\n",
              "      <th>0</th>\n",
              "      <td>AS</td>\n",
              "      <td>33.012213</td>\n",
              "    </tr>\n",
              "    <tr>\n",
              "      <th>1</th>\n",
              "      <td>AA</td>\n",
              "      <td>34.737818</td>\n",
              "    </tr>\n",
              "    <tr>\n",
              "      <th>2</th>\n",
              "      <td>US</td>\n",
              "      <td>38.389150</td>\n",
              "    </tr>\n",
              "    <tr>\n",
              "      <th>3</th>\n",
              "      <td>DL</td>\n",
              "      <td>28.638594</td>\n",
              "    </tr>\n",
              "    <tr>\n",
              "      <th>4</th>\n",
              "      <td>NK</td>\n",
              "      <td>48.464376</td>\n",
              "    </tr>\n",
              "    <tr>\n",
              "      <th>5</th>\n",
              "      <td>UA</td>\n",
              "      <td>36.109888</td>\n",
              "    </tr>\n",
              "    <tr>\n",
              "      <th>6</th>\n",
              "      <td>HA</td>\n",
              "      <td>39.567600</td>\n",
              "    </tr>\n",
              "    <tr>\n",
              "      <th>7</th>\n",
              "      <td>B6</td>\n",
              "      <td>38.194632</td>\n",
              "    </tr>\n",
              "    <tr>\n",
              "      <th>8</th>\n",
              "      <td>OO</td>\n",
              "      <td>37.806385</td>\n",
              "    </tr>\n",
              "    <tr>\n",
              "      <th>9</th>\n",
              "      <td>EV</td>\n",
              "      <td>37.277198</td>\n",
              "    </tr>\n",
              "    <tr>\n",
              "      <th>10</th>\n",
              "      <td>MQ</td>\n",
              "      <td>35.130264</td>\n",
              "    </tr>\n",
              "    <tr>\n",
              "      <th>11</th>\n",
              "      <td>F9</td>\n",
              "      <td>45.391695</td>\n",
              "    </tr>\n",
              "    <tr>\n",
              "      <th>12</th>\n",
              "      <td>WN</td>\n",
              "      <td>37.307535</td>\n",
              "    </tr>\n",
              "    <tr>\n",
              "      <th>13</th>\n",
              "      <td>VX</td>\n",
              "      <td>39.061112</td>\n",
              "    </tr>\n",
              "  </tbody>\n",
              "</table>\n",
              "</div>\n",
              "      <button class=\"colab-df-convert\" onclick=\"convertToInteractive('df-979969f1-8d2d-41d5-ae9e-7f6099c28039')\"\n",
              "              title=\"Convert this dataframe to an interactive table.\"\n",
              "              style=\"display:none;\">\n",
              "        \n",
              "  <svg xmlns=\"http://www.w3.org/2000/svg\" height=\"24px\"viewBox=\"0 0 24 24\"\n",
              "       width=\"24px\">\n",
              "    <path d=\"M0 0h24v24H0V0z\" fill=\"none\"/>\n",
              "    <path d=\"M18.56 5.44l.94 2.06.94-2.06 2.06-.94-2.06-.94-.94-2.06-.94 2.06-2.06.94zm-11 1L8.5 8.5l.94-2.06 2.06-.94-2.06-.94L8.5 2.5l-.94 2.06-2.06.94zm10 10l.94 2.06.94-2.06 2.06-.94-2.06-.94-.94-2.06-.94 2.06-2.06.94z\"/><path d=\"M17.41 7.96l-1.37-1.37c-.4-.4-.92-.59-1.43-.59-.52 0-1.04.2-1.43.59L10.3 9.45l-7.72 7.72c-.78.78-.78 2.05 0 2.83L4 21.41c.39.39.9.59 1.41.59.51 0 1.02-.2 1.41-.59l7.78-7.78 2.81-2.81c.8-.78.8-2.07 0-2.86zM5.41 20L4 18.59l7.72-7.72 1.47 1.35L5.41 20z\"/>\n",
              "  </svg>\n",
              "      </button>\n",
              "      \n",
              "  <style>\n",
              "    .colab-df-container {\n",
              "      display:flex;\n",
              "      flex-wrap:wrap;\n",
              "      gap: 12px;\n",
              "    }\n",
              "\n",
              "    .colab-df-convert {\n",
              "      background-color: #E8F0FE;\n",
              "      border: none;\n",
              "      border-radius: 50%;\n",
              "      cursor: pointer;\n",
              "      display: none;\n",
              "      fill: #1967D2;\n",
              "      height: 32px;\n",
              "      padding: 0 0 0 0;\n",
              "      width: 32px;\n",
              "    }\n",
              "\n",
              "    .colab-df-convert:hover {\n",
              "      background-color: #E2EBFA;\n",
              "      box-shadow: 0px 1px 2px rgba(60, 64, 67, 0.3), 0px 1px 3px 1px rgba(60, 64, 67, 0.15);\n",
              "      fill: #174EA6;\n",
              "    }\n",
              "\n",
              "    [theme=dark] .colab-df-convert {\n",
              "      background-color: #3B4455;\n",
              "      fill: #D2E3FC;\n",
              "    }\n",
              "\n",
              "    [theme=dark] .colab-df-convert:hover {\n",
              "      background-color: #434B5C;\n",
              "      box-shadow: 0px 1px 3px 1px rgba(0, 0, 0, 0.15);\n",
              "      filter: drop-shadow(0px 1px 2px rgba(0, 0, 0, 0.3));\n",
              "      fill: #FFFFFF;\n",
              "    }\n",
              "  </style>\n",
              "\n",
              "      <script>\n",
              "        const buttonEl =\n",
              "          document.querySelector('#df-979969f1-8d2d-41d5-ae9e-7f6099c28039 button.colab-df-convert');\n",
              "        buttonEl.style.display =\n",
              "          google.colab.kernel.accessAllowed ? 'block' : 'none';\n",
              "\n",
              "        async function convertToInteractive(key) {\n",
              "          const element = document.querySelector('#df-979969f1-8d2d-41d5-ae9e-7f6099c28039');\n",
              "          const dataTable =\n",
              "            await google.colab.kernel.invokeFunction('convertToInteractive',\n",
              "                                                     [key], {});\n",
              "          if (!dataTable) return;\n",
              "\n",
              "          const docLinkHtml = 'Like what you see? Visit the ' +\n",
              "            '<a target=\"_blank\" href=https://colab.research.google.com/notebooks/data_table.ipynb>data table notebook</a>'\n",
              "            + ' to learn more about interactive tables.';\n",
              "          element.innerHTML = '';\n",
              "          dataTable['output_type'] = 'display_data';\n",
              "          await google.colab.output.renderOutput(dataTable, element);\n",
              "          const docLink = document.createElement('div');\n",
              "          docLink.innerHTML = docLinkHtml;\n",
              "          element.appendChild(docLink);\n",
              "        }\n",
              "      </script>\n",
              "    </div>\n",
              "  </div>\n",
              "  "
            ]
          },
          "metadata": {},
          "execution_count": 9
        }
      ]
    },
    {
      "cell_type": "code",
      "source": [
        "flights[flights[\"AIRLINE\"] == airline][[\"Atrasado\"]].value_counts(sort = 0)"
      ],
      "metadata": {
        "colab": {
          "base_uri": "https://localhost:8080/"
        },
        "id": "rUoP-N1VwTYW",
        "outputId": "467b7f3a-d950-4958-df86-48fbef8d606d"
      },
      "execution_count": 10,
      "outputs": [
        {
          "output_type": "execute_result",
          "data": {
            "text/plain": [
              "Atrasado\n",
              "0           37723\n",
              "1           24180\n",
              "dtype: int64"
            ]
          },
          "metadata": {},
          "execution_count": 10
        }
      ]
    },
    {
      "cell_type": "code",
      "source": [
        "delay_occurencies"
      ],
      "metadata": {
        "colab": {
          "base_uri": "https://localhost:8080/"
        },
        "id": "GRT3qzjMhaYe",
        "outputId": "6f4d484f-9a6e-441c-b2b4-d6c6c2330c4e"
      },
      "execution_count": 11,
      "outputs": [
        {
          "output_type": "execute_result",
          "data": {
            "text/plain": [
              "array([186227., 252191.,  76285.,  41232., 101998., 222435.,  56953.,\n",
              "        56887., 470767., 250840., 213217.,  30179., 103505.,  24180.])"
            ]
          },
          "metadata": {},
          "execution_count": 11
        }
      ]
    },
    {
      "cell_type": "markdown",
      "source": [
        "Proporção global de atrasos"
      ],
      "metadata": {
        "id": "ruRH5S9Us5la"
      }
    },
    {
      "cell_type": "code",
      "source": [
        "data = [delay_occurencies.sum(), len(flights[\"Atrasado\"]) - delay_occurencies.sum()]\n",
        "labels = ['atrasado','na hora']\n",
        "\n",
        "#define Seaborn color palette to use\n",
        "colors = sns.color_palette('pastel')[0:5]\n",
        "\n",
        "#create pie chart\n",
        "plt.pie(data, labels = labels, colors = colors, autopct='%.0f%%')\n",
        "plt.title(\"Proporção global de atrasos\")\n",
        "plt.show()"
      ],
      "metadata": {
        "colab": {
          "base_uri": "https://localhost:8080/",
          "height": 264
        },
        "id": "59ta8OWrIaB6",
        "outputId": "3039b1e6-44a4-485c-f9fb-11ef25cf74c5"
      },
      "execution_count": 12,
      "outputs": [
        {
          "output_type": "display_data",
          "data": {
            "text/plain": [
              "<Figure size 432x288 with 1 Axes>"
            ],
            "image/png": "[encoded data removed]"
          },
          "metadata": {}
        }
      ]
    },
    {
      "cell_type": "markdown",
      "source": [
        "Atrasos por companhia"
      ],
      "metadata": {
        "id": "q1-eIDL058fO"
      }
    },
    {
      "cell_type": "markdown",
      "source": [
        "Gráfico de média e proporcao\n",
        "\n",
        "Como utilizamos uma variavel binária de 0 e 1, a média é a proporção de atrasos"
      ],
      "metadata": {
        "id": "OXtxUq9wzNDJ"
      }
    },
    {
      "cell_type": "code",
      "source": [
        "df"
      ],
      "metadata": {
        "colab": {
          "base_uri": "https://localhost:8080/",
          "height": 488
        },
        "id": "-3u-a3C_6dNc",
        "outputId": "73f74756-8ac2-4204-a2b9-45b10a543415"
      },
      "execution_count": null,
      "outputs": [
        {
          "output_type": "execute_result",
          "data": {
            "text/plain": [
              "   Airline  Porcentagem\n",
              "0       AS    33.017735\n",
              "1       AA    34.663138\n",
              "2       US    38.389150\n",
              "3       DL    28.531867\n",
              "4       NK    48.414086\n",
              "5       UA    36.088272\n",
              "6       HA    39.585832\n",
              "7       B6    38.122200\n",
              "8       OO    37.746099\n",
              "9       EV    37.214518\n",
              "10      MQ    35.073917\n",
              "11      F9    45.393243\n",
              "12      WN    37.192183\n",
              "13      VX    39.041074"
            ],
            "text/html": [
              "\n",
              "  <div id=\"df-f01a6f05-665b-428a-85d4-81e9dd02ca08\">\n",
              "    <div class=\"colab-df-container\">\n",
              "      <div>\n",
              "<style scoped>\n",
              "    .dataframe tbody tr th:only-of-type {\n",
              "        vertical-align: middle;\n",
              "    }\n",
              "\n",
              "    .dataframe tbody tr th {\n",
              "        vertical-align: top;\n",
              "    }\n",
              "\n",
              "    .dataframe thead th {\n",
              "        text-align: right;\n",
              "    }\n",
              "</style>\n",
              "<table border=\"1\" class=\"dataframe\">\n",
              "  <thead>\n",
              "    <tr style=\"text-align: right;\">\n",
              "      <th></th>\n",
              "      <th>Airline</th>\n",
              "      <th>Porcentagem</th>\n",
              "    </tr>\n",
              "  </thead>\n",
              "  <tbody>\n",
              "    <tr>\n",
              "      <th>0</th>\n",
              "      <td>AS</td>\n",
              "      <td>33.017735</td>\n",
              "    </tr>\n",
              "    <tr>\n",
              "      <th>1</th>\n",
              "      <td>AA</td>\n",
              "      <td>34.663138</td>\n",
              "    </tr>\n",
              "    <tr>\n",
              "      <th>2</th>\n",
              "      <td>US</td>\n",
              "      <td>38.389150</td>\n",
              "    </tr>\n",
              "    <tr>\n",
              "      <th>3</th>\n",
              "      <td>DL</td>\n",
              "      <td>28.531867</td>\n",
              "    </tr>\n",
              "    <tr>\n",
              "      <th>4</th>\n",
              "      <td>NK</td>\n",
              "      <td>48.414086</td>\n",
              "    </tr>\n",
              "    <tr>\n",
              "      <th>5</th>\n",
              "      <td>UA</td>\n",
              "      <td>36.088272</td>\n",
              "    </tr>\n",
              "    <tr>\n",
              "      <th>6</th>\n",
              "      <td>HA</td>\n",
              "      <td>39.585832</td>\n",
              "    </tr>\n",
              "    <tr>\n",
              "      <th>7</th>\n",
              "      <td>B6</td>\n",
              "      <td>38.122200</td>\n",
              "    </tr>\n",
              "    <tr>\n",
              "      <th>8</th>\n",
              "      <td>OO</td>\n",
              "      <td>37.746099</td>\n",
              "    </tr>\n",
              "    <tr>\n",
              "      <th>9</th>\n",
              "      <td>EV</td>\n",
              "      <td>37.214518</td>\n",
              "    </tr>\n",
              "    <tr>\n",
              "      <th>10</th>\n",
              "      <td>MQ</td>\n",
              "      <td>35.073917</td>\n",
              "    </tr>\n",
              "    <tr>\n",
              "      <th>11</th>\n",
              "      <td>F9</td>\n",
              "      <td>45.393243</td>\n",
              "    </tr>\n",
              "    <tr>\n",
              "      <th>12</th>\n",
              "      <td>WN</td>\n",
              "      <td>37.192183</td>\n",
              "    </tr>\n",
              "    <tr>\n",
              "      <th>13</th>\n",
              "      <td>VX</td>\n",
              "      <td>39.041074</td>\n",
              "    </tr>\n",
              "  </tbody>\n",
              "</table>\n",
              "</div>\n",
              "      <button class=\"colab-df-convert\" onclick=\"convertToInteractive('df-f01a6f05-665b-428a-85d4-81e9dd02ca08')\"\n",
              "              title=\"Convert this dataframe to an interactive table.\"\n",
              "              style=\"display:none;\">\n",
              "        \n",
              "  <svg xmlns=\"http://www.w3.org/2000/svg\" height=\"24px\"viewBox=\"0 0 24 24\"\n",
              "       width=\"24px\">\n",
              "    <path d=\"M0 0h24v24H0V0z\" fill=\"none\"/>\n",
              "    <path d=\"M18.56 5.44l.94 2.06.94-2.06 2.06-.94-2.06-.94-.94-2.06-.94 2.06-2.06.94zm-11 1L8.5 8.5l.94-2.06 2.06-.94-2.06-.94L8.5 2.5l-.94 2.06-2.06.94zm10 10l.94 2.06.94-2.06 2.06-.94-2.06-.94-.94-2.06-.94 2.06-2.06.94z\"/><path d=\"M17.41 7.96l-1.37-1.37c-.4-.4-.92-.59-1.43-.59-.52 0-1.04.2-1.43.59L10.3 9.45l-7.72 7.72c-.78.78-.78 2.05 0 2.83L4 21.41c.39.39.9.59 1.41.59.51 0 1.02-.2 1.41-.59l7.78-7.78 2.81-2.81c.8-.78.8-2.07 0-2.86zM5.41 20L4 18.59l7.72-7.72 1.47 1.35L5.41 20z\"/>\n",
              "  </svg>\n",
              "      </button>\n",
              "      \n",
              "  <style>\n",
              "    .colab-df-container {\n",
              "      display:flex;\n",
              "      flex-wrap:wrap;\n",
              "      gap: 12px;\n",
              "    }\n",
              "\n",
              "    .colab-df-convert {\n",
              "      background-color: #E8F0FE;\n",
              "      border: none;\n",
              "      border-radius: 50%;\n",
              "      cursor: pointer;\n",
              "      display: none;\n",
              "      fill: #1967D2;\n",
              "      height: 32px;\n",
              "      padding: 0 0 0 0;\n",
              "      width: 32px;\n",
              "    }\n",
              "\n",
              "    .colab-df-convert:hover {\n",
              "      background-color: #E2EBFA;\n",
              "      box-shadow: 0px 1px 2px rgba(60, 64, 67, 0.3), 0px 1px 3px 1px rgba(60, 64, 67, 0.15);\n",
              "      fill: #174EA6;\n",
              "    }\n",
              "\n",
              "    [theme=dark] .colab-df-convert {\n",
              "      background-color: #3B4455;\n",
              "      fill: #D2E3FC;\n",
              "    }\n",
              "\n",
              "    [theme=dark] .colab-df-convert:hover {\n",
              "      background-color: #434B5C;\n",
              "      box-shadow: 0px 1px 3px 1px rgba(0, 0, 0, 0.15);\n",
              "      filter: drop-shadow(0px 1px 2px rgba(0, 0, 0, 0.3));\n",
              "      fill: #FFFFFF;\n",
              "    }\n",
              "  </style>\n",
              "\n",
              "      <script>\n",
              "        const buttonEl =\n",
              "          document.querySelector('#df-f01a6f05-665b-428a-85d4-81e9dd02ca08 button.colab-df-convert');\n",
              "        buttonEl.style.display =\n",
              "          google.colab.kernel.accessAllowed ? 'block' : 'none';\n",
              "\n",
              "        async function convertToInteractive(key) {\n",
              "          const element = document.querySelector('#df-f01a6f05-665b-428a-85d4-81e9dd02ca08');\n",
              "          const dataTable =\n",
              "            await google.colab.kernel.invokeFunction('convertToInteractive',\n",
              "                                                     [key], {});\n",
              "          if (!dataTable) return;\n",
              "\n",
              "          const docLinkHtml = 'Like what you see? Visit the ' +\n",
              "            '<a target=\"_blank\" href=https://colab.research.google.com/notebooks/data_table.ipynb>data table notebook</a>'\n",
              "            + ' to learn more about interactive tables.';\n",
              "          element.innerHTML = '';\n",
              "          dataTable['output_type'] = 'display_data';\n",
              "          await google.colab.output.renderOutput(dataTable, element);\n",
              "          const docLink = document.createElement('div');\n",
              "          docLink.innerHTML = docLinkHtml;\n",
              "          element.appendChild(docLink);\n",
              "        }\n",
              "      </script>\n",
              "    </div>\n",
              "  </div>\n",
              "  "
            ]
          },
          "metadata": {},
          "execution_count": 13
        }
      ]
    },
    {
      "cell_type": "code",
      "source": [
        "import seaborn as sns\n",
        "import matplotlib.pyplot as plt\n",
        "\n",
        "sns.barplot(x = 'Airline', y = 'Porcentagem', data = df, order=df.sort_values('Porcentagem').Airline)\n",
        "plt.title(\"Proporção de atrasos por linha aérea\")\n",
        "plt.show()"
      ],
      "metadata": {
        "colab": {
          "base_uri": "https://localhost:8080/",
          "height": 295
        },
        "id": "0ERRWXy8t-Rd",
        "outputId": "b4772179-be23-4c52-c0e2-39223830e39b"
      },
      "execution_count": 13,
      "outputs": [
        {
          "output_type": "display_data",
          "data": {
            "text/plain": [
              "<Figure size 432x288 with 1 Axes>"
            ],
            "image/png": "[encoded data removed]"
          },
          "metadata": {
            "needs_background": "light"
          }
        }
      ]
    },
    {
      "cell_type": "code",
      "source": [
        "airlines"
      ],
      "metadata": {
        "colab": {
          "base_uri": "https://localhost:8080/",
          "height": 488
        },
        "id": "T3IhEHVZ9Eoh",
        "outputId": "20f0c600-cff0-4b23-b5b9-920283bae574"
      },
      "execution_count": 14,
      "outputs": [
        {
          "output_type": "execute_result",
          "data": {
            "text/plain": [
              "   IATA_CODE                       AIRLINE\n",
              "0         UA         United Air Lines Inc.\n",
              "1         AA        American Airlines Inc.\n",
              "2         US               US Airways Inc.\n",
              "3         F9        Frontier Airlines Inc.\n",
              "4         B6               JetBlue Airways\n",
              "5         OO         Skywest Airlines Inc.\n",
              "6         AS          Alaska Airlines Inc.\n",
              "7         NK              Spirit Air Lines\n",
              "8         WN        Southwest Airlines Co.\n",
              "9         DL          Delta Air Lines Inc.\n",
              "10        EV   Atlantic Southeast Airlines\n",
              "11        HA        Hawaiian Airlines Inc.\n",
              "12        MQ  American Eagle Airlines Inc.\n",
              "13        VX                Virgin America"
            ],
            "text/html": [
              "\n",
              "  <div id=\"df-006038df-3b6e-4711-b249-b68bb4397fbe\">\n",
              "    <div class=\"colab-df-container\">\n",
              "      <div>\n",
              "<style scoped>\n",
              "    .dataframe tbody tr th:only-of-type {\n",
              "        vertical-align: middle;\n",
              "    }\n",
              "\n",
              "    .dataframe tbody tr th {\n",
              "        vertical-align: top;\n",
              "    }\n",
              "\n",
              "    .dataframe thead th {\n",
              "        text-align: right;\n",
              "    }\n",
              "</style>\n",
              "<table border=\"1\" class=\"dataframe\">\n",
              "  <thead>\n",
              "    <tr style=\"text-align: right;\">\n",
              "      <th></th>\n",
              "      <th>IATA_CODE</th>\n",
              "      <th>AIRLINE</th>\n",
              "    </tr>\n",
              "  </thead>\n",
              "  <tbody>\n",
              "    <tr>\n",
              "      <th>0</th>\n",
              "      <td>UA</td>\n",
              "      <td>United Air Lines Inc.</td>\n",
              "    </tr>\n",
              "    <tr>\n",
              "      <th>1</th>\n",
              "      <td>AA</td>\n",
              "      <td>American Airlines Inc.</td>\n",
              "    </tr>\n",
              "    <tr>\n",
              "      <th>2</th>\n",
              "      <td>US</td>\n",
              "      <td>US Airways Inc.</td>\n",
              "    </tr>\n",
              "    <tr>\n",
              "      <th>3</th>\n",
              "      <td>F9</td>\n",
              "      <td>Frontier Airlines Inc.</td>\n",
              "    </tr>\n",
              "    <tr>\n",
              "      <th>4</th>\n",
              "      <td>B6</td>\n",
              "      <td>JetBlue Airways</td>\n",
              "    </tr>\n",
              "    <tr>\n",
              "      <th>5</th>\n",
              "      <td>OO</td>\n",
              "      <td>Skywest Airlines Inc.</td>\n",
              "    </tr>\n",
              "    <tr>\n",
              "      <th>6</th>\n",
              "      <td>AS</td>\n",
              "      <td>Alaska Airlines Inc.</td>\n",
              "    </tr>\n",
              "    <tr>\n",
              "      <th>7</th>\n",
              "      <td>NK</td>\n",
              "      <td>Spirit Air Lines</td>\n",
              "    </tr>\n",
              "    <tr>\n",
              "      <th>8</th>\n",
              "      <td>WN</td>\n",
              "      <td>Southwest Airlines Co.</td>\n",
              "    </tr>\n",
              "    <tr>\n",
              "      <th>9</th>\n",
              "      <td>DL</td>\n",
              "      <td>Delta Air Lines Inc.</td>\n",
              "    </tr>\n",
              "    <tr>\n",
              "      <th>10</th>\n",
              "      <td>EV</td>\n",
              "      <td>Atlantic Southeast Airlines</td>\n",
              "    </tr>\n",
              "    <tr>\n",
              "      <th>11</th>\n",
              "      <td>HA</td>\n",
              "      <td>Hawaiian Airlines Inc.</td>\n",
              "    </tr>\n",
              "    <tr>\n",
              "      <th>12</th>\n",
              "      <td>MQ</td>\n",
              "      <td>American Eagle Airlines Inc.</td>\n",
              "    </tr>\n",
              "    <tr>\n",
              "      <th>13</th>\n",
              "      <td>VX</td>\n",
              "      <td>Virgin America</td>\n",
              "    </tr>\n",
              "  </tbody>\n",
              "</table>\n",
              "</div>\n",
              "      <button class=\"colab-df-convert\" onclick=\"convertToInteractive('df-006038df-3b6e-4711-b249-b68bb4397fbe')\"\n",
              "              title=\"Convert this dataframe to an interactive table.\"\n",
              "              style=\"display:none;\">\n",
              "        \n",
              "  <svg xmlns=\"http://www.w3.org/2000/svg\" height=\"24px\"viewBox=\"0 0 24 24\"\n",
              "       width=\"24px\">\n",
              "    <path d=\"M0 0h24v24H0V0z\" fill=\"none\"/>\n",
              "    <path d=\"M18.56 5.44l.94 2.06.94-2.06 2.06-.94-2.06-.94-.94-2.06-.94 2.06-2.06.94zm-11 1L8.5 8.5l.94-2.06 2.06-.94-2.06-.94L8.5 2.5l-.94 2.06-2.06.94zm10 10l.94 2.06.94-2.06 2.06-.94-2.06-.94-.94-2.06-.94 2.06-2.06.94z\"/><path d=\"M17.41 7.96l-1.37-1.37c-.4-.4-.92-.59-1.43-.59-.52 0-1.04.2-1.43.59L10.3 9.45l-7.72 7.72c-.78.78-.78 2.05 0 2.83L4 21.41c.39.39.9.59 1.41.59.51 0 1.02-.2 1.41-.59l7.78-7.78 2.81-2.81c.8-.78.8-2.07 0-2.86zM5.41 20L4 18.59l7.72-7.72 1.47 1.35L5.41 20z\"/>\n",
              "  </svg>\n",
              "      </button>\n",
              "      \n",
              "  <style>\n",
              "    .colab-df-container {\n",
              "      display:flex;\n",
              "      flex-wrap:wrap;\n",
              "      gap: 12px;\n",
              "    }\n",
              "\n",
              "    .colab-df-convert {\n",
              "      background-color: #E8F0FE;\n",
              "      border: none;\n",
              "      border-radius: 50%;\n",
              "      cursor: pointer;\n",
              "      display: none;\n",
              "      fill: #1967D2;\n",
              "      height: 32px;\n",
              "      padding: 0 0 0 0;\n",
              "      width: 32px;\n",
              "    }\n",
              "\n",
              "    .colab-df-convert:hover {\n",
              "      background-color: #E2EBFA;\n",
              "      box-shadow: 0px 1px 2px rgba(60, 64, 67, 0.3), 0px 1px 3px 1px rgba(60, 64, 67, 0.15);\n",
              "      fill: #174EA6;\n",
              "    }\n",
              "\n",
              "    [theme=dark] .colab-df-convert {\n",
              "      background-color: #3B4455;\n",
              "      fill: #D2E3FC;\n",
              "    }\n",
              "\n",
              "    [theme=dark] .colab-df-convert:hover {\n",
              "      background-color: #434B5C;\n",
              "      box-shadow: 0px 1px 3px 1px rgba(0, 0, 0, 0.15);\n",
              "      filter: drop-shadow(0px 1px 2px rgba(0, 0, 0, 0.3));\n",
              "      fill: #FFFFFF;\n",
              "    }\n",
              "  </style>\n",
              "\n",
              "      <script>\n",
              "        const buttonEl =\n",
              "          document.querySelector('#df-006038df-3b6e-4711-b249-b68bb4397fbe button.colab-df-convert');\n",
              "        buttonEl.style.display =\n",
              "          google.colab.kernel.accessAllowed ? 'block' : 'none';\n",
              "\n",
              "        async function convertToInteractive(key) {\n",
              "          const element = document.querySelector('#df-006038df-3b6e-4711-b249-b68bb4397fbe');\n",
              "          const dataTable =\n",
              "            await google.colab.kernel.invokeFunction('convertToInteractive',\n",
              "                                                     [key], {});\n",
              "          if (!dataTable) return;\n",
              "\n",
              "          const docLinkHtml = 'Like what you see? Visit the ' +\n",
              "            '<a target=\"_blank\" href=https://colab.research.google.com/notebooks/data_table.ipynb>data table notebook</a>'\n",
              "            + ' to learn more about interactive tables.';\n",
              "          element.innerHTML = '';\n",
              "          dataTable['output_type'] = 'display_data';\n",
              "          await google.colab.output.renderOutput(dataTable, element);\n",
              "          const docLink = document.createElement('div');\n",
              "          docLink.innerHTML = docLinkHtml;\n",
              "          element.appendChild(docLink);\n",
              "        }\n",
              "      </script>\n",
              "    </div>\n",
              "  </div>\n",
              "  "
            ]
          },
          "metadata": {},
          "execution_count": 14
        }
      ]
    },
    {
      "cell_type": "code",
      "source": [
        "import seaborn as sns\n",
        "import matplotlib.pyplot as plt\n",
        "\n",
        "sns.barplot(x = 'AIRLINE', y = 'ARRIVAL_DELAY', data = flights)\n",
        "plt.title(\"Tempo de atraso por linha aerea\")\n",
        "plt.show()"
      ],
      "metadata": {
        "colab": {
          "base_uri": "https://localhost:8080/",
          "height": 295
        },
        "id": "Chqlz6iJus9N",
        "outputId": "6c589a03-02b2-4842-b127-6bceed456ca1"
      },
      "execution_count": 38,
      "outputs": [
        {
          "output_type": "display_data",
          "data": {
            "text/plain": [
              "<Figure size 432x288 with 1 Axes>"
            ],
            "image/png": "[encoded data removed]"
          },
          "metadata": {
            "needs_background": "light"
          }
        }
      ]
    },
    {
      "cell_type": "code",
      "source": [
        "import numpy as np\n",
        "time_delayed = np.array([])\n",
        "mediana = np.array([])\n",
        "for airline in airlines['IATA_CODE'].values:\n",
        "  tempo_medio = flights[flights[\"AIRLINE\"] == airline][[\"ARRIVAL_DELAY\"]].query(\"ARRIVAL_DELAY >0\").mean()\n",
        "  time_delayed = np.append(time_delayed,tempo_medio)\n",
        "  median = flights[flights[\"AIRLINE\"] == airline][[\"ARRIVAL_DELAY\"]].query(\"ARRIVAL_DELAY >0\").median()\n",
        "  mediana = np.append(mediana,median)"
      ],
      "metadata": {
        "id": "i3g-1FXIugv5"
      },
      "execution_count": 16,
      "outputs": []
    },
    {
      "cell_type": "code",
      "source": [
        "print(\"Tempo médio de atrasos\", time_delayed)"
      ],
      "metadata": {
        "colab": {
          "base_uri": "https://localhost:8080/"
        },
        "id": "Xm94vm08vX1v",
        "outputId": "aec23676-bf1c-4793-d1eb-a64a7f62939f"
      },
      "execution_count": 17,
      "outputs": [
        {
          "output_type": "stream",
          "name": "stdout",
          "text": [
            "Tempo médio de atrasos [39.20931444 34.14836374 27.41992528 41.19043461 38.13280653 32.43727831\n",
            " 22.56241111 40.65985199 29.41849577 32.07742386 35.19804237 15.37976739\n",
            " 39.50920245 30.72522746]\n"
          ]
        }
      ]
    },
    {
      "cell_type": "code",
      "source": [
        "import seaborn as sns\n",
        "import matplotlib.pyplot as plt\n",
        " \n",
        "sns.barplot(x = airlines['IATA_CODE'], y = time_delayed)\n",
        "plt.title(\"tempo de atraso médio por linha aerea\")\n",
        "plt.show()"
      ],
      "metadata": {
        "colab": {
          "base_uri": "https://localhost:8080/",
          "height": 296
        },
        "id": "Gb7BgM2awswe",
        "outputId": "218cab26-6c1a-40ac-823b-be9ff545d1f5"
      },
      "execution_count": 19,
      "outputs": [
        {
          "output_type": "display_data",
          "data": {
            "text/plain": [
              "<Figure size 432x288 with 1 Axes>"
            ],
            "image/png": "[encoded data removed]"
          },
          "metadata": {
            "needs_background": "light"
          }
        }
      ]
    },
    {
      "cell_type": "markdown",
      "source": [
        "Pelos gráficos notamos que as companhias com mais chances de atrasar em comparação com as demais são a Spirit Air Lines e Frontier Airlines Inc. ."
      ],
      "metadata": {
        "id": "aLItucHfgn4v"
      }
    },
    {
      "cell_type": "markdown",
      "source": [
        "# **Atrasos por aeroporto**"
      ],
      "metadata": {
        "id": "UJOSMspexTnS"
      }
    },
    {
      "cell_type": "markdown",
      "source": [
        "Verificando a proporção de atrasos por aeroporto"
      ],
      "metadata": {
        "id": "OV0uu3KLy6WO"
      }
    },
    {
      "cell_type": "code",
      "source": [
        "airports['IATA_CODE']"
      ],
      "metadata": {
        "id": "un9oA_xg7feK",
        "colab": {
          "base_uri": "https://localhost:8080/"
        },
        "outputId": "b871b06a-a41f-4258-a95e-a977f6bd8426"
      },
      "execution_count": 24,
      "outputs": [
        {
          "output_type": "execute_result",
          "data": {
            "text/plain": [
              "0      ABE\n",
              "1      ABI\n",
              "2      ABQ\n",
              "3      ABR\n",
              "4      ABY\n",
              "      ... \n",
              "317    WRG\n",
              "318    WYS\n",
              "319    XNA\n",
              "320    YAK\n",
              "321    YUM\n",
              "Name: IATA_CODE, Length: 322, dtype: object"
            ]
          },
          "metadata": {},
          "execution_count": 24
        }
      ]
    },
    {
      "cell_type": "code",
      "source": [
        "import numpy as np\n",
        "\n",
        "delay_occurencies_airport = np.array([])\n",
        "delay_occurencies_percentage = np.array([])\n",
        "\n",
        "for airport in airports['IATA_CODE'].values:\n",
        "  if(len(flights[flights[\"ORIGIN_AIRPORT\"] == 'AKN'][[\"Atrasado\"]].value_counts()) > 0):\n",
        "    atrasou = flights[flights[\"ORIGIN_AIRPORT\"] == airport][[\"Atrasado\"]].value_counts()[1]\n",
        "    \n",
        "    delay_occurencies_airport = np.append(delay_occurencies,atrasou)\n",
        "\n",
        "    total = len(flights[flights[\"ORIGIN_AIRPORT\"] == airport][[\"Atrasado\"]])\n",
        "    atrasado = flights[flights[\"ORIGIN_AIRPORT\"] == airport][[\"Atrasado\"]].value_counts()[1]\n",
        "    porcentagem = (atrasado/total)*100\n",
        "    delay_occurencies_percentage = np.append(delay_occurencies_percentage,porcentagem)"
      ],
      "metadata": {
        "id": "fyY_UTNgy6Ex"
      },
      "execution_count": 25,
      "outputs": []
    },
    {
      "cell_type": "code",
      "source": [
        "import numpy as np\n",
        "\n",
        "\n",
        "atraso_por_aeroporto = []\n",
        "\n",
        "for airport in airports['IATA_CODE'].unique():\n",
        "  novo_aeroporto = {}\n",
        "  novo_aeroporto[\"Aeroporto\"] = airport\n",
        "  total = len(flights[flights[\"ORIGIN_AIRPORT\"] == airport][[\"Atrasado\"]])\n",
        "  atrasado = flights[flights[\"ORIGIN_AIRPORT\"] == airport][[\"Atrasado\"]].value_counts()[1]\n",
        "  porcentagem = (atrasado/total)*100\n",
        "  novo_aeroporto[\"Porcentagem\"] = porcentagem\n",
        "  atraso_por_aeroporto.append(novo_aeroporto)\n",
        "\n",
        "atraso_por_aeroporto"
      ],
      "metadata": {
        "id": "bQtjHiJA7J0L",
        "colab": {
          "base_uri": "https://localhost:8080/"
        },
        "outputId": "0e098c8e-bffb-461b-8dd9-1d1196bed8f8"
      },
      "execution_count": 26,
      "outputs": [
        {
          "output_type": "execute_result",
          "data": {
            "text/plain": [
              "[{'Aeroporto': 'ABE', 'Porcentagem': 36.32365875109939},\n",
              " {'Aeroporto': 'ABI', 'Porcentagem': 29.454701588664662},\n",
              " {'Aeroporto': 'ABQ', 'Porcentagem': 36.29116298457691},\n",
              " {'Aeroporto': 'ABR', 'Porcentagem': 36.661698956780924},\n",
              " {'Aeroporto': 'ABY', 'Porcentagem': 35.273972602739725},\n",
              " {'Aeroporto': 'ACK', 'Porcentagem': 32.926829268292686},\n",
              " {'Aeroporto': 'ACT', 'Porcentagem': 28.90818858560794},\n",
              " {'Aeroporto': 'ACV', 'Porcentagem': 34.015151515151516},\n",
              " {'Aeroporto': 'ACY', 'Porcentagem': 40.117581187010074},\n",
              " {'Aeroporto': 'ADK', 'Porcentagem': 58.333333333333336},\n",
              " {'Aeroporto': 'ADQ', 'Porcentagem': 34.78260869565217},\n",
              " {'Aeroporto': 'AEX', 'Porcentagem': 37.44437380801017},\n",
              " {'Aeroporto': 'AGS', 'Porcentagem': 42.52435408725116},\n",
              " {'Aeroporto': 'AKN', 'Porcentagem': 50.79365079365079},\n",
              " {'Aeroporto': 'ALB', 'Porcentagem': 26.893685480627425},\n",
              " {'Aeroporto': 'ALO', 'Porcentagem': 27.876823338735818},\n",
              " {'Aeroporto': 'AMA', 'Porcentagem': 35.927859515899385},\n",
              " {'Aeroporto': 'ANC', 'Porcentagem': 32.46485473289597},\n",
              " {'Aeroporto': 'APN', 'Porcentagem': 24.781849912739965},\n",
              " {'Aeroporto': 'ASE', 'Porcentagem': 41.10050533408198},\n",
              " {'Aeroporto': 'ATL', 'Porcentagem': 33.119976011717355},\n",
              " {'Aeroporto': 'ATW', 'Porcentagem': 37.78089887640449},\n",
              " {'Aeroporto': 'AUS', 'Porcentagem': 34.8990895476264},\n",
              " {'Aeroporto': 'AVL', 'Porcentagem': 33.98907103825137},\n",
              " {'Aeroporto': 'AVP', 'Porcentagem': 34.0691685062546},\n",
              " {'Aeroporto': 'AZO', 'Porcentagem': 26.991869918699184},\n",
              " {'Aeroporto': 'BDL', 'Porcentagem': 30.27288685568381},\n",
              " {'Aeroporto': 'BET', 'Porcentagem': 36.607142857142854},\n",
              " {'Aeroporto': 'BFL', 'Porcentagem': 32.2715206674251},\n",
              " {'Aeroporto': 'BGM', 'Porcentagem': 26.717557251908396},\n",
              " {'Aeroporto': 'BGR', 'Porcentagem': 32.78688524590164},\n",
              " {'Aeroporto': 'BHM', 'Porcentagem': 33.76218635128656},\n",
              " {'Aeroporto': 'BIL', 'Porcentagem': 22.08653175157013},\n",
              " {'Aeroporto': 'BIS', 'Porcentagem': 34.66550825369244},\n",
              " {'Aeroporto': 'BJI', 'Porcentagem': 25.787106446776615},\n",
              " {'Aeroporto': 'BLI', 'Porcentagem': 32.20815752461322},\n",
              " {'Aeroporto': 'BMI', 'Porcentagem': 33.51648351648351},\n",
              " {'Aeroporto': 'BNA', 'Porcentagem': 35.19966372425389},\n",
              " {'Aeroporto': 'BOI', 'Porcentagem': 35.58129558129558},\n",
              " {'Aeroporto': 'BOS', 'Porcentagem': 35.91662262278969},\n",
              " {'Aeroporto': 'BPT', 'Porcentagem': 41.82939362795478},\n",
              " {'Aeroporto': 'BQK', 'Porcentagem': 33.37129840546697},\n",
              " {'Aeroporto': 'BQN', 'Porcentagem': 33.804914370811616},\n",
              " {'Aeroporto': 'BRD', 'Porcentagem': 34.125636672325975},\n",
              " {'Aeroporto': 'BRO', 'Porcentagem': 27.222692633361557},\n",
              " {'Aeroporto': 'BRW', 'Porcentagem': 34.619883040935676},\n",
              " {'Aeroporto': 'BTM', 'Porcentagem': 14.842578710644677},\n",
              " {'Aeroporto': 'BTR', 'Porcentagem': 42.91096846218253},\n",
              " {'Aeroporto': 'BTV', 'Porcentagem': 35.057085292142375},\n",
              " {'Aeroporto': 'BUF', 'Porcentagem': 28.411792677127913},\n",
              " {'Aeroporto': 'BUR', 'Porcentagem': 31.93922388691831},\n",
              " {'Aeroporto': 'BWI', 'Porcentagem': 40.6359274619826},\n",
              " {'Aeroporto': 'BZN', 'Porcentagem': 30.6881243063263},\n",
              " {'Aeroporto': 'CAE', 'Porcentagem': 36.18714812657736},\n",
              " {'Aeroporto': 'CAK', 'Porcentagem': 27.229508196721312},\n",
              " {'Aeroporto': 'CDC', 'Porcentagem': 31.413612565445025},\n",
              " {'Aeroporto': 'CDV', 'Porcentagem': 30.966767371601208},\n",
              " {'Aeroporto': 'CEC', 'Porcentagem': 31.05263157894737},\n",
              " {'Aeroporto': 'CHA', 'Porcentagem': 36.19704902427415},\n",
              " {'Aeroporto': 'CHO', 'Porcentagem': 33.98366606170599},\n",
              " {'Aeroporto': 'CHS', 'Porcentagem': 30.87077938563087},\n",
              " {'Aeroporto': 'CID', 'Porcentagem': 37.295081967213115},\n",
              " {'Aeroporto': 'CIU', 'Porcentagem': 43.882544861337685},\n",
              " {'Aeroporto': 'CLD', 'Porcentagem': 35.101404056162245},\n",
              " {'Aeroporto': 'CLE', 'Porcentagem': 31.72395848391107},\n",
              " {'Aeroporto': 'CLL', 'Porcentagem': 28.212894850713976},\n",
              " {'Aeroporto': 'CLT', 'Porcentagem': 41.30716478609306},\n",
              " {'Aeroporto': 'CMH', 'Porcentagem': 31.884896845412825},\n",
              " {'Aeroporto': 'CMI', 'Porcentagem': 29.017013232514177},\n",
              " {'Aeroporto': 'CMX', 'Porcentagem': 30.239520958083833},\n",
              " {'Aeroporto': 'CNY', 'Porcentagem': 3.8834951456310676},\n",
              " {'Aeroporto': 'COD', 'Porcentagem': 47.067669172932334},\n",
              " {'Aeroporto': 'COS', 'Porcentagem': 35.93954367097806},\n",
              " {'Aeroporto': 'COU', 'Porcentagem': 35.62691131498471},\n",
              " {'Aeroporto': 'CPR', 'Porcentagem': 22.322435174746335},\n",
              " {'Aeroporto': 'CRP', 'Porcentagem': 34.43126022913257},\n",
              " {'Aeroporto': 'CRW', 'Porcentagem': 43.31236897274633},\n",
              " {'Aeroporto': 'CSG', 'Porcentagem': 35.767790262172284},\n",
              " {'Aeroporto': 'CVG', 'Porcentagem': 34.89591133742699},\n",
              " {'Aeroporto': 'CWA', 'Porcentagem': 29.577464788732392},\n",
              " {'Aeroporto': 'DAB', 'Porcentagem': 22.623828647925034},\n",
              " {'Aeroporto': 'DAL', 'Porcentagem': 44.57696108812543},\n",
              " {'Aeroporto': 'DAY', 'Porcentagem': 33.56385431074227},\n",
              " {'Aeroporto': 'DBQ', 'Porcentagem': 25.43103448275862},\n",
              " {'Aeroporto': 'DCA', 'Porcentagem': 32.96609480445565},\n",
              " {'Aeroporto': 'DEN', 'Porcentagem': 41.19048226263038},\n",
              " {'Aeroporto': 'DFW', 'Porcentagem': 38.84517284419602},\n",
              " {'Aeroporto': 'DHN', 'Porcentagem': 42.698412698412696},\n",
              " {'Aeroporto': 'DIK', 'Porcentagem': 20.362473347547976},\n",
              " {'Aeroporto': 'DLG', 'Porcentagem': 22.07792207792208},\n",
              " {'Aeroporto': 'DLH', 'Porcentagem': 45.25887143688191},\n",
              " {'Aeroporto': 'DRO', 'Porcentagem': 36.89555125725338},\n",
              " {'Aeroporto': 'DSM', 'Porcentagem': 34.57364341085271},\n",
              " {'Aeroporto': 'DTW', 'Porcentagem': 33.438709677419354},\n",
              " {'Aeroporto': 'DVL', 'Porcentagem': 31.80952380952381},\n",
              " {'Aeroporto': 'EAU', 'Porcentagem': 32.18562874251497},\n",
              " {'Aeroporto': 'ECP', 'Porcentagem': 23.12305109138882},\n",
              " {'Aeroporto': 'EGE', 'Porcentagem': 37.46978243352135},\n",
              " {'Aeroporto': 'EKO', 'Porcentagem': 21.092278719397363},\n",
              " {'Aeroporto': 'ELM', 'Porcentagem': 37.25012189176012},\n",
              " {'Aeroporto': 'ELP', 'Porcentagem': 35.98396257935182},\n",
              " {'Aeroporto': 'ERI', 'Porcentagem': 38.069705093833775},\n",
              " {'Aeroporto': 'ESC', 'Porcentagem': 21.98952879581152},\n",
              " {'Aeroporto': 'EUG', 'Porcentagem': 30.616740088105725},\n",
              " {'Aeroporto': 'EVV', 'Porcentagem': 35.2112676056338},\n",
              " {'Aeroporto': 'EWN', 'Porcentagem': 36.173913043478265},\n",
              " {'Aeroporto': 'EWR', 'Porcentagem': 35.37908265534725},\n",
              " {'Aeroporto': 'EYW', 'Porcentagem': 25.696908261530666},\n",
              " {'Aeroporto': 'FAI', 'Porcentagem': 31.5162620247366},\n",
              " {'Aeroporto': 'FAR', 'Porcentagem': 34.93764271912875},\n",
              " {'Aeroporto': 'FAT', 'Porcentagem': 40.02564833285837},\n",
              " {'Aeroporto': 'FAY', 'Porcentagem': 34.90508266993264},\n",
              " {'Aeroporto': 'FCA', 'Porcentagem': 25.97530864197531},\n",
              " {'Aeroporto': 'FLG', 'Porcentagem': 40.06024096385542},\n",
              " {'Aeroporto': 'FLL', 'Porcentagem': 33.64663696620667},\n",
              " {'Aeroporto': 'FNT', 'Porcentagem': 25.853350189633375},\n",
              " {'Aeroporto': 'FSD', 'Porcentagem': 39.598574376289626},\n",
              " {'Aeroporto': 'FSM', 'Porcentagem': 34.55098934550989},\n",
              " {'Aeroporto': 'FWA', 'Porcentagem': 36.15282265728949},\n",
              " {'Aeroporto': 'GCC', 'Porcentagem': 21.965897693079235},\n",
              " {'Aeroporto': 'GCK', 'Porcentagem': 34.087481146304675},\n",
              " {'Aeroporto': 'GEG', 'Porcentagem': 33.2982640715413},\n",
              " {'Aeroporto': 'GFK', 'Porcentagem': 37.935843793584375},\n",
              " {'Aeroporto': 'GGG', 'Porcentagem': 41.679626749611195},\n",
              " {'Aeroporto': 'GJT', 'Porcentagem': 29.348851840201323},\n",
              " {'Aeroporto': 'GNV', 'Porcentagem': 39.470741707044354},\n",
              " {'Aeroporto': 'GPT', 'Porcentagem': 28.82108183079057},\n",
              " {'Aeroporto': 'GRB', 'Porcentagem': 34.398688793280066},\n",
              " {'Aeroporto': 'GRI', 'Porcentagem': 25.86750788643533},\n",
              " {'Aeroporto': 'GRK', 'Porcentagem': 32.70518224646665},\n",
              " {'Aeroporto': 'GRR', 'Porcentagem': 29.50668510834486},\n",
              " {'Aeroporto': 'GSO', 'Porcentagem': 33.57577556776013},\n",
              " {'Aeroporto': 'GSP', 'Porcentagem': 32.26841944359523},\n",
              " {'Aeroporto': 'GST', 'Porcentagem': 66.23376623376623},\n",
              " {'Aeroporto': 'GTF', 'Porcentagem': 26.042726347914545},\n",
              " {'Aeroporto': 'GTR', 'Porcentagem': 37.86407766990291},\n",
              " {'Aeroporto': 'GUC', 'Porcentagem': 38.028169014084504},\n",
              " {'Aeroporto': 'GUM', 'Porcentagem': 40.7185628742515},\n",
              " {'Aeroporto': 'HDN', 'Porcentagem': 36.55761024182077},\n",
              " {'Aeroporto': 'HIB', 'Porcentagem': 28.396436525612472},\n",
              " {'Aeroporto': 'HLN', 'Porcentagem': 23.48432055749129},\n",
              " {'Aeroporto': 'HNL', 'Porcentagem': 35.81719633095525},\n",
              " {'Aeroporto': 'HOB', 'Porcentagem': 25.74430823117338},\n",
              " {'Aeroporto': 'HOU', 'Porcentagem': 42.2024518658007},\n",
              " {'Aeroporto': 'HPN', 'Porcentagem': 40.2391508800215},\n",
              " {'Aeroporto': 'HRL', 'Porcentagem': 27.476453393959076},\n",
              " {'Aeroporto': 'HSV', 'Porcentagem': 31.201593272847976},\n",
              " {'Aeroporto': 'HYA', 'Porcentagem': 25.301204819277107},\n",
              " {'Aeroporto': 'HYS', 'Porcentagem': 33.682373472949386},\n",
              " {'Aeroporto': 'IAD', 'Porcentagem': 35.36802215420492},\n",
              " {'Aeroporto': 'IAG', 'Porcentagem': 39.44099378881988},\n",
              " {'Aeroporto': 'IAH', 'Porcentagem': 40.8015168255787},\n",
              " {'Aeroporto': 'ICT', 'Porcentagem': 35.05434782608695},\n",
              " {'Aeroporto': 'IDA', 'Porcentagem': 24.03204272363151},\n",
              " {'Aeroporto': 'ILG', 'Porcentagem': 53.0},\n",
              " {'Aeroporto': 'ILM', 'Porcentagem': 30.32258064516129},\n",
              " {'Aeroporto': 'IMT', 'Porcentagem': 26.129032258064516},\n",
              " {'Aeroporto': 'IND', 'Porcentagem': 31.17223569919399},\n",
              " {'Aeroporto': 'INL', 'Porcentagem': 32.57839721254355},\n",
              " {'Aeroporto': 'ISN', 'Porcentagem': 29.543666404405975},\n",
              " {'Aeroporto': 'ISP', 'Porcentagem': 31.671220400728593},\n",
              " {'Aeroporto': 'ITH', 'Porcentagem': 41.17647058823529},\n",
              " {'Aeroporto': 'ITO', 'Porcentagem': 32.64022365892015},\n",
              " {'Aeroporto': 'JAC', 'Porcentagem': 28.311022500712046},\n",
              " {'Aeroporto': 'JAN', 'Porcentagem': 32.971678173876285},\n",
              " {'Aeroporto': 'JAX', 'Porcentagem': 32.08781461359352},\n",
              " {'Aeroporto': 'JFK', 'Porcentagem': 35.68451460916097},\n",
              " {'Aeroporto': 'JLN', 'Porcentagem': 39.03903903903904},\n",
              " {'Aeroporto': 'JMS', 'Porcentagem': 32.01970443349754},\n",
              " {'Aeroporto': 'JNU', 'Porcentagem': 39.37469467513434},\n",
              " {'Aeroporto': 'KOA', 'Porcentagem': 33.44430448083499},\n",
              " {'Aeroporto': 'KTN', 'Porcentagem': 37.947391116860715},\n",
              " {'Aeroporto': 'LAN', 'Porcentagem': 35.15413737155219},\n",
              " {'Aeroporto': 'LAR', 'Porcentagem': 22.719449225473323},\n",
              " {'Aeroporto': 'LAS', 'Porcentagem': 39.71812796119566},\n",
              " {'Aeroporto': 'LAW', 'Porcentagem': 32.231404958677686},\n",
              " {'Aeroporto': 'LAX', 'Porcentagem': 40.92041526046242},\n",
              " {'Aeroporto': 'LBB', 'Porcentagem': 33.4267845589821},\n",
              " {'Aeroporto': 'LBE', 'Porcentagem': 36.924277907884466},\n",
              " {'Aeroporto': 'LCH', 'Porcentagem': 26.505376344086024},\n",
              " {'Aeroporto': 'LEX', 'Porcentagem': 29.98829235658137},\n",
              " {'Aeroporto': 'LFT', 'Porcentagem': 37.9102738395805},\n",
              " {'Aeroporto': 'LGA', 'Porcentagem': 36.37969981426635},\n",
              " {'Aeroporto': 'LGB', 'Porcentagem': 33.89540845391364},\n",
              " {'Aeroporto': 'LIH', 'Porcentagem': 32.11948790896159},\n",
              " {'Aeroporto': 'LIT', 'Porcentagem': 34.83976204183458},\n",
              " {'Aeroporto': 'LNK', 'Porcentagem': 33.53566009104704},\n",
              " {'Aeroporto': 'LRD', 'Porcentagem': 30.154405086285195},\n",
              " {'Aeroporto': 'LSE', 'Porcentagem': 25.41033434650456},\n",
              " {'Aeroporto': 'LWS', 'Porcentagem': 16.49659863945578},\n",
              " {'Aeroporto': 'MAF', 'Porcentagem': 34.46260130197954},\n",
              " {'Aeroporto': 'MBS', 'Porcentagem': 30.389308541545613},\n",
              " {'Aeroporto': 'MCI', 'Porcentagem': 34.83512220354326},\n",
              " {'Aeroporto': 'MCO', 'Porcentagem': 37.23666900938891},\n",
              " {'Aeroporto': 'MDT', 'Porcentagem': 26.514459665144596},\n",
              " {'Aeroporto': 'MDW', 'Porcentagem': 39.4122592290384},\n",
              " {'Aeroporto': 'MEI', 'Porcentagem': 35.72216097023153},\n",
              " {'Aeroporto': 'MEM', 'Porcentagem': 32.667569397427215},\n",
              " {'Aeroporto': 'MFE', 'Porcentagem': 28.08560539431252},\n",
              " {'Aeroporto': 'MFR', 'Porcentagem': 30.654281098546043},\n",
              " {'Aeroporto': 'MGM', 'Porcentagem': 40.397350993377486},\n",
              " {'Aeroporto': 'MHK', 'Porcentagem': 31.150550795593634},\n",
              " {'Aeroporto': 'MHT', 'Porcentagem': 28.146853146853147},\n",
              " {'Aeroporto': 'MIA', 'Porcentagem': 39.97634876912649},\n",
              " {'Aeroporto': 'MKE', 'Porcentagem': 32.05029337803856},\n",
              " {'Aeroporto': 'MKG', 'Porcentagem': 35.23238380809595},\n",
              " {'Aeroporto': 'MLB', 'Porcentagem': 25.900900900900904},\n",
              " {'Aeroporto': 'MLI', 'Porcentagem': 36.90759862324596},\n",
              " {'Aeroporto': 'MLU', 'Porcentagem': 38.46673421141506},\n",
              " {'Aeroporto': 'MMH', 'Porcentagem': 36.53846153846153},\n",
              " {'Aeroporto': 'MOB', 'Porcentagem': 39.87644479872459},\n",
              " {'Aeroporto': 'MOT', 'Porcentagem': 31.2972972972973},\n",
              " {'Aeroporto': 'MQT', 'Porcentagem': 29.93421052631579},\n",
              " {'Aeroporto': 'MRY', 'Porcentagem': 34.83523873570948},\n",
              " {'Aeroporto': 'MSN', 'Porcentagem': 30.18062397372742},\n",
              " {'Aeroporto': 'MSO', 'Porcentagem': 28.02118440057776},\n",
              " {'Aeroporto': 'MSP', 'Porcentagem': 33.48377141735865},\n",
              " {'Aeroporto': 'MSY', 'Porcentagem': 32.932171941037005},\n",
              " {'Aeroporto': 'MTJ', 'Porcentagem': 30.76923076923077},\n",
              " {'Aeroporto': 'MVY', 'Porcentagem': 34.146341463414636},\n",
              " {'Aeroporto': 'MYR', 'Porcentagem': 37.9010556820534},\n",
              " {'Aeroporto': 'OAJ', 'Porcentagem': 36.61971830985916},\n",
              " {'Aeroporto': 'OAK', 'Porcentagem': 43.503639285376686},\n",
              " {'Aeroporto': 'OGG', 'Porcentagem': 38.15872400252097},\n",
              " {'Aeroporto': 'OKC', 'Porcentagem': 33.696729435084244},\n",
              " {'Aeroporto': 'OMA', 'Porcentagem': 33.355219960604074},\n",
              " {'Aeroporto': 'OME', 'Porcentagem': 46.757164404223225},\n",
              " {'Aeroporto': 'ONT', 'Porcentagem': 34.36422293914785},\n",
              " {'Aeroporto': 'ORD', 'Porcentagem': 39.62481286116047},\n",
              " {'Aeroporto': 'ORF', 'Porcentagem': 31.3953488372093},\n",
              " {'Aeroporto': 'ORH', 'Porcentagem': 28.95927601809955},\n",
              " {'Aeroporto': 'OTH', 'Porcentagem': 41.81818181818181},\n",
              " {'Aeroporto': 'OTZ', 'Porcentagem': 44.645550527903474},\n",
              " {'Aeroporto': 'PAH', 'Porcentagem': 29.27927927927928},\n",
              " {'Aeroporto': 'PBG', 'Porcentagem': 46.263345195729535},\n",
              " {'Aeroporto': 'PBI', 'Porcentagem': 39.17512071944358},\n",
              " {'Aeroporto': 'PDX', 'Porcentagem': 32.088775618562174},\n",
              " {'Aeroporto': 'PHF', 'Porcentagem': 38.32145684877276},\n",
              " {'Aeroporto': 'PHL', 'Porcentagem': 36.76708925947805},\n",
              " {'Aeroporto': 'PHX', 'Porcentagem': 39.69076729217042},\n",
              " {'Aeroporto': 'PIA', 'Porcentagem': 35.57032590051458},\n",
              " {'Aeroporto': 'PIB', 'Porcentagem': 36.12565445026178},\n",
              " {'Aeroporto': 'PIH', 'Porcentagem': 32.7217125382263},\n",
              " {'Aeroporto': 'PIT', 'Porcentagem': 28.161539099427813},\n",
              " {'Aeroporto': 'PLN', 'Porcentagem': 31.606905710491368},\n",
              " {'Aeroporto': 'PNS', 'Porcentagem': 30.915212733394554},\n",
              " {'Aeroporto': 'PPG', 'Porcentagem': 62.616822429906534},\n",
              " {'Aeroporto': 'PSC', 'Porcentagem': 29.428688861487874},\n",
              " {'Aeroporto': 'PSE', 'Porcentagem': 24.299065420560748},\n",
              " {'Aeroporto': 'PSG', 'Porcentagem': 38.55421686746988},\n",
              " {'Aeroporto': 'PSP', 'Porcentagem': 36.80872371202849},\n",
              " {'Aeroporto': 'PUB', 'Porcentagem': 32.95454545454545},\n",
              " {'Aeroporto': 'PVD', 'Porcentagem': 29.815518176885515},\n",
              " {'Aeroporto': 'PWM', 'Porcentagem': 31.275368511001922},\n",
              " {'Aeroporto': 'RAP', 'Porcentagem': 34.150076569678404},\n",
              " {'Aeroporto': 'RDD', 'Porcentagem': 23.93397524071527},\n",
              " {'Aeroporto': 'RDM', 'Porcentagem': 26.20817843866171},\n",
              " {'Aeroporto': 'RDU', 'Porcentagem': 34.11713067469275},\n",
              " {'Aeroporto': 'RHI', 'Porcentagem': 48.21802935010482},\n",
              " {'Aeroporto': 'RIC', 'Porcentagem': 33.16834907196353},\n",
              " {'Aeroporto': 'RKS', 'Porcentagem': 22.17391304347826},\n",
              " {'Aeroporto': 'RNO', 'Porcentagem': 36.73814464683729},\n",
              " {'Aeroporto': 'ROA', 'Porcentagem': 34.5749342681858},\n",
              " {'Aeroporto': 'ROC', 'Porcentagem': 28.517722878625136},\n",
              " {'Aeroporto': 'ROW', 'Porcentagem': 34.18891170431211},\n",
              " {'Aeroporto': 'RST', 'Porcentagem': 32.08373904576437},\n",
              " {'Aeroporto': 'RSW', 'Porcentagem': 34.10237659963437},\n",
              " {'Aeroporto': 'SAF', 'Porcentagem': 37.5},\n",
              " {'Aeroporto': 'SAN', 'Porcentagem': 35.70156821969319},\n",
              " {'Aeroporto': 'SAT', 'Porcentagem': 31.85175238351014},\n",
              " {'Aeroporto': 'SAV', 'Porcentagem': 34.44709626093874},\n",
              " {'Aeroporto': 'SBA', 'Porcentagem': 32.840285856739236},\n",
              " {'Aeroporto': 'SBN', 'Porcentagem': 37.31477323753929},\n",
              " {'Aeroporto': 'SBP', 'Porcentagem': 34.69518033833386},\n",
              " {'Aeroporto': 'SCC', 'Porcentagem': 34.50292397660819},\n",
              " {'Aeroporto': 'SCE', 'Porcentagem': 30.735455543358945},\n",
              " {'Aeroporto': 'SDF', 'Porcentagem': 32.065856526852215},\n",
              " {'Aeroporto': 'SEA', 'Porcentagem': 39.265457758861665},\n",
              " {'Aeroporto': 'SFO', 'Porcentagem': 37.954705151072915},\n",
              " {'Aeroporto': 'SGF', 'Porcentagem': 39.159717767799876},\n",
              " {'Aeroporto': 'SGU', 'Porcentagem': 30.782217220033765},\n",
              " {'Aeroporto': 'SHV', 'Porcentagem': 38.38334153139859},\n",
              " {'Aeroporto': 'SIT', 'Porcentagem': 34.277198211624444},\n",
              " {'Aeroporto': 'SJC', 'Porcentagem': 39.416230366492144},\n",
              " {'Aeroporto': 'SJT', 'Porcentagem': 30.896805896805894},\n",
              " {'Aeroporto': 'SJU', 'Porcentagem': 32.47079818299805},\n",
              " {'Aeroporto': 'SLC', 'Porcentagem': 31.977162843328877},\n",
              " {'Aeroporto': 'SMF', 'Porcentagem': 39.363646135655166},\n",
              " {'Aeroporto': 'SMX', 'Porcentagem': 30.57228915662651},\n",
              " {'Aeroporto': 'SNA', 'Porcentagem': 33.57624976470272},\n",
              " {'Aeroporto': 'SPI', 'Porcentagem': 31.695022054190297},\n",
              " {'Aeroporto': 'SPS', 'Porcentagem': 33.38735818476499},\n",
              " {'Aeroporto': 'SRQ', 'Porcentagem': 29.376854599406528},\n",
              " {'Aeroporto': 'STC', 'Porcentagem': 45.78313253012048},\n",
              " {'Aeroporto': 'STL', 'Porcentagem': 35.779230458020145},\n",
              " {'Aeroporto': 'STT', 'Porcentagem': 31.2327506899724},\n",
              " {'Aeroporto': 'STX', 'Porcentagem': 38.44515441959531},\n",
              " {'Aeroporto': 'SUN', 'Porcentagem': 26.569037656903767},\n",
              " {'Aeroporto': 'SUX', 'Porcentagem': 30.483870967741932},\n",
              " {'Aeroporto': 'SWF', 'Porcentagem': 37.410071942446045},\n",
              " {'Aeroporto': 'SYR', 'Porcentagem': 28.38801711840228},\n",
              " {'Aeroporto': 'TLH', 'Porcentagem': 29.962429555416403},\n",
              " {'Aeroporto': 'TOL', 'Porcentagem': 22.86902286902287},\n",
              " {'Aeroporto': 'TPA', 'Porcentagem': 34.538228022407914},\n",
              " {'Aeroporto': 'TRI', 'Porcentagem': 32.72821576763486},\n",
              " {'Aeroporto': 'TTN', 'Porcentagem': 39.82332155477032},\n",
              " {'Aeroporto': 'TUL', 'Porcentagem': 33.3715103793844},\n",
              " {'Aeroporto': 'TUS', 'Porcentagem': 32.307997618575115},\n",
              " {'Aeroporto': 'TVC', 'Porcentagem': 29.934687953555876},\n",
              " {'Aeroporto': 'TWF', 'Porcentagem': 26.134969325153374},\n",
              " {'Aeroporto': 'TXK', 'Porcentagem': 33.43558282208589},\n",
              " {'Aeroporto': 'TYR', 'Porcentagem': 35.52173913043478},\n",
              " {'Aeroporto': 'TYS', 'Porcentagem': 38.273732586528794},\n",
              " {'Aeroporto': 'UST', 'Porcentagem': 39.35483870967742},\n",
              " {'Aeroporto': 'VEL', 'Porcentagem': 11.165048543689322},\n",
              " {'Aeroporto': 'VLD', 'Porcentagem': 38.39572192513369},\n",
              " {'Aeroporto': 'VPS', 'Porcentagem': 31.71733771569433},\n",
              " {'Aeroporto': 'WRG', 'Porcentagem': 35.54216867469879},\n",
              " {'Aeroporto': 'WYS', 'Porcentagem': 27.884615384615387},\n",
              " {'Aeroporto': 'XNA', 'Porcentagem': 40.148658838737475},\n",
              " {'Aeroporto': 'YAK', 'Porcentagem': 24.018126888217523},\n",
              " {'Aeroporto': 'YUM', 'Porcentagem': 33.40436867341502}]"
            ]
          },
          "metadata": {},
          "execution_count": 26
        }
      ]
    },
    {
      "cell_type": "markdown",
      "source": [
        "Atrasos por aeroporto"
      ],
      "metadata": {
        "id": "Zaapr5fOPnLy"
      }
    },
    {
      "cell_type": "code",
      "source": [
        "# Creates DataFrame.  \n",
        "\n",
        "df = pd.DataFrame(atraso_por_aeroporto)  \n",
        "df"
      ],
      "metadata": {
        "colab": {
          "base_uri": "https://localhost:8080/",
          "height": 655
        },
        "id": "0hOb2abwVhhy",
        "outputId": "c713c970-46f6-4632-9a42-23c019789075"
      },
      "execution_count": 28,
      "outputs": [
        {
          "output_type": "execute_result",
          "data": {
            "text/plain": [
              "    Aeroporto  Porcentagem\n",
              "0         ABE    36.323659\n",
              "1         ABI    29.454702\n",
              "2         ABQ    36.291163\n",
              "3         ABR    36.661699\n",
              "4         ABY    35.273973\n",
              "..        ...          ...\n",
              "317       WRG    35.542169\n",
              "318       WYS    27.884615\n",
              "319       XNA    40.148659\n",
              "320       YAK    24.018127\n",
              "321       YUM    33.404369\n",
              "\n",
              "[322 rows x 2 columns]"
            ],
            "text/html": [
              "\n",
              "  <div id=\"df-4db0d3aa-f53b-4059-94fd-27e4a7dde697\">\n",
              "    <div class=\"colab-df-container\">\n",
              "      <div>\n",
              "<style scoped>\n",
              "    .dataframe tbody tr th:only-of-type {\n",
              "        vertical-align: middle;\n",
              "    }\n",
              "\n",
              "    .dataframe tbody tr th {\n",
              "        vertical-align: top;\n",
              "    }\n",
              "\n",
              "    .dataframe thead th {\n",
              "        text-align: right;\n",
              "    }\n",
              "</style>\n",
              "<table border=\"1\" class=\"dataframe\">\n",
              "  <thead>\n",
              "    <tr style=\"text-align: right;\">\n",
              "      <th></th>\n",
              "      <th>Aeroporto</th>\n",
              "      <th>Porcentagem</th>\n",
              "    </tr>\n",
              "  </thead>\n",
              "  <tbody>\n",
              "    <tr>\n",
              "      <th>0</th>\n",
              "      <td>ABE</td>\n",
              "      <td>36.323659</td>\n",
              "    </tr>\n",
              "    <tr>\n",
              "      <th>1</th>\n",
              "      <td>ABI</td>\n",
              "      <td>29.454702</td>\n",
              "    </tr>\n",
              "    <tr>\n",
              "      <th>2</th>\n",
              "      <td>ABQ</td>\n",
              "      <td>36.291163</td>\n",
              "    </tr>\n",
              "    <tr>\n",
              "      <th>3</th>\n",
              "      <td>ABR</td>\n",
              "      <td>36.661699</td>\n",
              "    </tr>\n",
              "    <tr>\n",
              "      <th>4</th>\n",
              "      <td>ABY</td>\n",
              "      <td>35.273973</td>\n",
              "    </tr>\n",
              "    <tr>\n",
              "      <th>...</th>\n",
              "      <td>...</td>\n",
              "      <td>...</td>\n",
              "    </tr>\n",
              "    <tr>\n",
              "      <th>317</th>\n",
              "      <td>WRG</td>\n",
              "      <td>35.542169</td>\n",
              "    </tr>\n",
              "    <tr>\n",
              "      <th>318</th>\n",
              "      <td>WYS</td>\n",
              "      <td>27.884615</td>\n",
              "    </tr>\n",
              "    <tr>\n",
              "      <th>319</th>\n",
              "      <td>XNA</td>\n",
              "      <td>40.148659</td>\n",
              "    </tr>\n",
              "    <tr>\n",
              "      <th>320</th>\n",
              "      <td>YAK</td>\n",
              "      <td>24.018127</td>\n",
              "    </tr>\n",
              "    <tr>\n",
              "      <th>321</th>\n",
              "      <td>YUM</td>\n",
              "      <td>33.404369</td>\n",
              "    </tr>\n",
              "  </tbody>\n",
              "</table>\n",
              "<p>322 rows × 2 columns</p>\n",
              "</div>\n",
              "      <button class=\"colab-df-convert\" onclick=\"convertToInteractive('df-4db0d3aa-f53b-4059-94fd-27e4a7dde697')\"\n",
              "              title=\"Convert this dataframe to an interactive table.\"\n",
              "              style=\"display:none;\">\n",
              "        \n",
              "  <svg xmlns=\"http://www.w3.org/2000/svg\" height=\"24px\"viewBox=\"0 0 24 24\"\n",
              "       width=\"24px\">\n",
              "    <path d=\"M0 0h24v24H0V0z\" fill=\"none\"/>\n",
              "    <path d=\"M18.56 5.44l.94 2.06.94-2.06 2.06-.94-2.06-.94-.94-2.06-.94 2.06-2.06.94zm-11 1L8.5 8.5l.94-2.06 2.06-.94-2.06-.94L8.5 2.5l-.94 2.06-2.06.94zm10 10l.94 2.06.94-2.06 2.06-.94-2.06-.94-.94-2.06-.94 2.06-2.06.94z\"/><path d=\"M17.41 7.96l-1.37-1.37c-.4-.4-.92-.59-1.43-.59-.52 0-1.04.2-1.43.59L10.3 9.45l-7.72 7.72c-.78.78-.78 2.05 0 2.83L4 21.41c.39.39.9.59 1.41.59.51 0 1.02-.2 1.41-.59l7.78-7.78 2.81-2.81c.8-.78.8-2.07 0-2.86zM5.41 20L4 18.59l7.72-7.72 1.47 1.35L5.41 20z\"/>\n",
              "  </svg>\n",
              "      </button>\n",
              "      \n",
              "  <style>\n",
              "    .colab-df-container {\n",
              "      display:flex;\n",
              "      flex-wrap:wrap;\n",
              "      gap: 12px;\n",
              "    }\n",
              "\n",
              "    .colab-df-convert {\n",
              "      background-color: #E8F0FE;\n",
              "      border: none;\n",
              "      border-radius: 50%;\n",
              "      cursor: pointer;\n",
              "      display: none;\n",
              "      fill: #1967D2;\n",
              "      height: 32px;\n",
              "      padding: 0 0 0 0;\n",
              "      width: 32px;\n",
              "    }\n",
              "\n",
              "    .colab-df-convert:hover {\n",
              "      background-color: #E2EBFA;\n",
              "      box-shadow: 0px 1px 2px rgba(60, 64, 67, 0.3), 0px 1px 3px 1px rgba(60, 64, 67, 0.15);\n",
              "      fill: #174EA6;\n",
              "    }\n",
              "\n",
              "    [theme=dark] .colab-df-convert {\n",
              "      background-color: #3B4455;\n",
              "      fill: #D2E3FC;\n",
              "    }\n",
              "\n",
              "    [theme=dark] .colab-df-convert:hover {\n",
              "      background-color: #434B5C;\n",
              "      box-shadow: 0px 1px 3px 1px rgba(0, 0, 0, 0.15);\n",
              "      filter: drop-shadow(0px 1px 2px rgba(0, 0, 0, 0.3));\n",
              "      fill: #FFFFFF;\n",
              "    }\n",
              "  </style>\n",
              "\n",
              "      <script>\n",
              "        const buttonEl =\n",
              "          document.querySelector('#df-4db0d3aa-f53b-4059-94fd-27e4a7dde697 button.colab-df-convert');\n",
              "        buttonEl.style.display =\n",
              "          google.colab.kernel.accessAllowed ? 'block' : 'none';\n",
              "\n",
              "        async function convertToInteractive(key) {\n",
              "          const element = document.querySelector('#df-4db0d3aa-f53b-4059-94fd-27e4a7dde697');\n",
              "          const dataTable =\n",
              "            await google.colab.kernel.invokeFunction('convertToInteractive',\n",
              "                                                     [key], {});\n",
              "          if (!dataTable) return;\n",
              "\n",
              "          const docLinkHtml = 'Like what you see? Visit the ' +\n",
              "            '<a target=\"_blank\" href=https://colab.research.google.com/notebooks/data_table.ipynb>data table notebook</a>'\n",
              "            + ' to learn more about interactive tables.';\n",
              "          element.innerHTML = '';\n",
              "          dataTable['output_type'] = 'display_data';\n",
              "          await google.colab.output.renderOutput(dataTable, element);\n",
              "          const docLink = document.createElement('div');\n",
              "          docLink.innerHTML = docLinkHtml;\n",
              "          element.appendChild(docLink);\n",
              "        }\n",
              "      </script>\n",
              "    </div>\n",
              "  </div>\n",
              "  "
            ]
          },
          "metadata": {},
          "execution_count": 28
        }
      ]
    },
    {
      "cell_type": "code",
      "source": [
        "import seaborn as sns\n",
        "import matplotlib.pyplot as plt\n",
        "\n",
        "fig = sns.barplot(x = 'Aeroporto', y = 'Porcentagem', data = df, order=df.sort_values('Porcentagem').Aeroporto)\n",
        "plt.title(\"Proporção de atrasos por linha aérea\")\n",
        "fig.figure.set_size_inches(60, 60)\n",
        "plt.show()"
      ],
      "metadata": {
        "colab": {
          "base_uri": "https://localhost:8080/",
          "height": 1000
        },
        "id": "fDPORByATYZ9",
        "outputId": "b62fe87c-bec0-4233-8a62-3327e54112f8"
      },
      "execution_count": 29,
      "outputs": [
        {
          "output_type": "display_data",
          "data": {
            "text/plain": [
              "<Figure size 4320x4320 with 1 Axes>"
            ],
            "image/png": "[encoded data removed]"
          },
          "metadata": {
            "needs_background": "light"
          }
        }
      ]
    },
    {
      "cell_type": "code",
      "source": [
        "import seaborn as sns\n",
        "import matplotlib.pyplot as plt\n",
        "\n",
        "sns.barplot(x = 'ORIGIN_AIRPORT', y = 'ARRIVAL_DELAY', data = flights)\n",
        " \n",
        "plt.show()"
      ],
      "metadata": {
        "colab": {
          "base_uri": "https://localhost:8080/",
          "height": 280
        },
        "id": "C7mcY4e8W8yf",
        "outputId": "9e1e2fe6-5f50-4d84-c6a1-94a6de8dd29b"
      },
      "execution_count": 30,
      "outputs": [
        {
          "output_type": "display_data",
          "data": {
            "text/plain": [
              "<Figure size 432x288 with 1 Axes>"
            ],
            "image/png": "[encoded data removed]"
          },
          "metadata": {
            "needs_background": "light"
          }
        }
      ]
    },
    {
      "cell_type": "markdown",
      "source": [
        "Pelos gráficos notamos que os aeroportos GST, PPG, ADK\te ILG apresentam mais atrasos proporcionalmente."
      ],
      "metadata": {
        "id": "0zs6XhwF8f36"
      }
    },
    {
      "cell_type": "markdown",
      "source": [
        "# Lidando com a falta de dados"
      ],
      "metadata": {
        "id": "sw2b2c6zg3CO"
      }
    },
    {
      "cell_type": "code",
      "source": [
        "# Porcentagem de dados faltantes\n",
        "flights.isnull().mean().round(4)*100"
      ],
      "metadata": {
        "id": "iTKCPnvHpyUx",
        "colab": {
          "base_uri": "https://localhost:8080/"
        },
        "outputId": "255671e7-5886-4e0c-e1a0-8d59e0f2fe24"
      },
      "execution_count": 51,
      "outputs": [
        {
          "output_type": "execute_result",
          "data": {
            "text/plain": [
              "MONTH                  0.0\n",
              "DAY                    0.0\n",
              "DAY_OF_WEEK            0.0\n",
              "AIRLINE                0.0\n",
              "FLIGHT_NUMBER          0.0\n",
              "TAIL_NUMBER            0.0\n",
              "ORIGIN_AIRPORT         0.0\n",
              "DESTINATION_AIRPORT    0.0\n",
              "SCHEDULED_DEPARTURE    0.0\n",
              "DEPARTURE_TIME         0.0\n",
              "DEPARTURE_DELAY        0.0\n",
              "TAXI_OUT               0.0\n",
              "WHEELS_OFF             0.0\n",
              "SCHEDULED_TIME         0.0\n",
              "ELAPSED_TIME           0.0\n",
              "AIR_TIME               0.0\n",
              "DISTANCE               0.0\n",
              "WHEELS_ON              0.0\n",
              "TAXI_IN                0.0\n",
              "SCHEDULED_ARRIVAL      0.0\n",
              "ARRIVAL_TIME           0.0\n",
              "ARRIVAL_DELAY          0.0\n",
              "DIVERTED               0.0\n",
              "CANCELLED              0.0\n",
              "Atrasado               0.0\n",
              "dtype: float64"
            ]
          },
          "metadata": {},
          "execution_count": 51
        }
      ]
    },
    {
      "cell_type": "code",
      "source": [
        "#tirando colunas com mais de 80% das dados faltando\n",
        "flights = flights.drop(['YEAR'], axis=1) # tirando year também porque é uma constante basicamente\n",
        "flights = flights.drop(['CANCELLATION_REASON'], axis=1)\n",
        "flights = flights.drop(['AIR_SYSTEM_DELAY'], axis=1)\n",
        "flights = flights.drop(['SECURITY_DELAY'], axis=1)\n",
        "flights = flights.drop(['AIRLINE_DELAY'], axis=1)\n",
        "flights = flights.drop(['LATE_AIRCRAFT_DELAY'], axis=1)\n",
        "flights = flights.drop(['WEATHER_DELAY'], axis=1)"
      ],
      "metadata": {
        "id": "rwNCJ85Jpzob"
      },
      "execution_count": null,
      "outputs": []
    },
    {
      "cell_type": "code",
      "source": [
        "flights.columns"
      ],
      "metadata": {
        "id": "dbMkkIuxVSpg",
        "colab": {
          "base_uri": "https://localhost:8080/"
        },
        "outputId": "8ef0eec1-1fce-433d-d34d-e0b634e5e9b0"
      },
      "execution_count": 48,
      "outputs": [
        {
          "output_type": "execute_result",
          "data": {
            "text/plain": [
              "Index(['MONTH', 'DAY', 'DAY_OF_WEEK', 'AIRLINE', 'FLIGHT_NUMBER',\n",
              "       'TAIL_NUMBER', 'ORIGIN_AIRPORT', 'DESTINATION_AIRPORT',\n",
              "       'SCHEDULED_DEPARTURE', 'DEPARTURE_TIME', 'DEPARTURE_DELAY', 'TAXI_OUT',\n",
              "       'WHEELS_OFF', 'SCHEDULED_TIME', 'ELAPSED_TIME', 'AIR_TIME', 'DISTANCE',\n",
              "       'WHEELS_ON', 'TAXI_IN', 'SCHEDULED_ARRIVAL', 'ARRIVAL_TIME',\n",
              "       'ARRIVAL_DELAY', 'DIVERTED', 'CANCELLED', 'Atrasado'],\n",
              "      dtype='object')"
            ]
          },
          "metadata": {},
          "execution_count": 48
        }
      ]
    },
    {
      "cell_type": "code",
      "source": [
        "# Procurando outliers nas colunas com alguma porcentagem de valores faltantes\n",
        "\n",
        "import plotly.express as px\n",
        "# df = px.flights.tips()\n",
        "missing_values = [\"DEPARTURE_TIME\", \"DEPARTURE_DELAY\",\"TAXI_OUT\", \"WHEELS_OFF\", \"ELAPSED_TIME\", \"AIR_TIME\", \"WHEELS_ON\", \"TAXI_IN\", \"ARRIVAL_TIME\", \"ARRIVAL_DELAY\" ]\n",
        "\n",
        "for yvar in missing_values:\n",
        "  fig = px.box(flights, y= yvar)\n",
        "  fig.show()\n"
      ],
      "metadata": {
        "id": "mGZ7nprhumdn"
      },
      "execution_count": null,
      "outputs": []
    },
    {
      "cell_type": "markdown",
      "source": [
        "A estratégia escolhida para lidar com a falta de dados é a substituição dos valores nulos pela média ou mediana dependendo a quantidade de outliers encontrados nos dados.\n",
        "\n",
        "As features sem outliers receberão a média, estas são: departure_time, wheels_of, wheels_on, arrival_time\n",
        "\n",
        "As features com outliers receberão a mediana, estas são: departure_delay, taxi_out, elapsed_time, air_time, taxi_in, arrival_delay"
      ],
      "metadata": {
        "id": "c_SzjTyW4VtM"
      }
    },
    {
      "cell_type": "code",
      "source": [
        "from sklearn.impute import SimpleImputer\n",
        "import numpy as np\n",
        "# imputer = SimpleImputer(missing_values=np.nan, strategy='mean')\n",
        "# imputer.fit(flights['DEPARTURE_TIME', 'WHEELS_OF', 'WHEELS_ON', 'ARRIVAL_TIME'])\n",
        "\n",
        "flights['DEPARTURE_TIME'] = flights['DEPARTURE_TIME'].fillna(flights['DEPARTURE_TIME'].mean())\n",
        "flights['WHEELS_OFF'] = flights['WHEELS_OFF'].fillna(flights['WHEELS_OFF'].mean())\n",
        "flights['WHEELS_ON'] = flights['WHEELS_ON'].fillna(flights['WHEELS_ON'].mean())\n",
        "flights['ARRIVAL_TIME'] = flights['ARRIVAL_TIME'].fillna(flights['ARRIVAL_TIME'].mean())\n",
        "\n",
        "flights['DEPARTURE_TIME'] = flights['DEPARTURE_TIME'].fillna(flights['DEPARTURE_TIME'].median())\n",
        "flights['TAXI_OUT'] = flights['TAXI_OUT'].fillna(flights['TAXI_OUT'].median())\n",
        "flights['ELAPSED_TIME'] = flights['ELAPSED_TIME'].fillna(flights['ELAPSED_TIME'].median())\n",
        "flights['AIR_TIME'] = flights['AIR_TIME'].fillna(flights['AIR_TIME'].median())\n",
        "flights['TAXI_IN'] = flights['TAXI_IN'].fillna(flights['TAXI_IN'].median())\n",
        "flights['ARRIVAL_DELAY'] = flights['ARRIVAL_DELAY'].fillna(flights['ARRIVAL_DELAY'].median())\n",
        "flights['DEPARTURE_DELAY'] = flights['DEPARTURE_DELAY'].fillna(flights['DEPARTURE_DELAY'].median())"
      ],
      "metadata": {
        "id": "C2yt229BO24f"
      },
      "execution_count": null,
      "outputs": []
    },
    {
      "cell_type": "code",
      "source": [
        "#medias\n",
        "list(flights.columns).index('DEPARTURE_TIME',)\n",
        "list(flights.columns).index('WHEELS_OFF',)\n",
        "list(flights.columns).index('WHEELS_ON',)\n",
        "list(flights.columns).index('ARRIVAL_TIME',)\n",
        "# # mediana\n",
        "list(flights.columns).index('DEPARTURE_DELAY',)\n",
        "list(flights.columns).index('TAXI_OUT',)\n",
        "list(flights.columns).index('ELAPSED_TIME',)\n",
        "list(flights.columns).index('AIR_TIME',)\n",
        "list(flights.columns).index('TAXI_IN',)\n",
        "list(flights.columns).index('ARRIVAL_DELAY',)"
      ],
      "metadata": {
        "id": "ohNuVXq4Zx30"
      },
      "execution_count": null,
      "outputs": []
    },
    {
      "cell_type": "code",
      "source": [
        "#verificando resultados das substituições\n",
        "flights.isnull().mean().round(4)*100"
      ],
      "metadata": {
        "id": "3-3agfwMRoUY"
      },
      "execution_count": null,
      "outputs": []
    },
    {
      "cell_type": "code",
      "source": [
        "# dropping all nan from tail number\n",
        "flights.dropna(inplace=True)"
      ],
      "metadata": {
        "id": "_gyEjOIUKH2g"
      },
      "execution_count": null,
      "outputs": []
    },
    {
      "cell_type": "code",
      "source": [
        "# Vendo a matriz de correlação após tratamento\n",
        "\n",
        "import plotly.express as px\n",
        "fig = px.imshow(flights.corr())\n",
        "fig.show()"
      ],
      "metadata": {
        "id": "oaV5xGmNOwwI"
      },
      "execution_count": null,
      "outputs": []
    },
    {
      "cell_type": "markdown",
      "source": [
        "Sabendo que a variável target é ARRIVAL_DELAY estas são as vari\n",
        "\n",
        "TAXI_OUT : 0,227 \n",
        "\n",
        "DEPARTURE_DELAY: 0,937\n",
        "\n",
        "DEPARTURE_TIME: 0,159\n",
        "\n",
        "WHEELS_OFF: 0,155\n",
        "\n",
        "SCHEDULED_DEPARTURE: 0,098"
      ],
      "metadata": {
        "id": "VNFZi8BxPTTh"
      }
    },
    {
      "cell_type": "markdown",
      "source": [
        "Removendo variaveis numéricas que não possuem grande correlação com a variável target"
      ],
      "metadata": {
        "id": "fSxoPpWdGL2J"
      }
    },
    {
      "cell_type": "markdown",
      "source": [
        "# Encoding categorical data"
      ],
      "metadata": {
        "id": "rXe0rx0aBNHY"
      }
    },
    {
      "cell_type": "markdown",
      "source": [
        "Dados categóricos restantes:\n",
        "\n",
        "- MONTH                   \n",
        "- DAY                     \n",
        "- DAY_OF_WEEK             \n",
        "- AIRLINE                 \n",
        "- FLIGHT_NUMBER           \n",
        "- TAIL_NUMBER             \n",
        "- ORIGIN_AIRPORT          \n",
        "- DESTINATION_AIRPORT "
      ],
      "metadata": {
        "id": "9seUWg0VUVta"
      }
    },
    {
      "cell_type": "code",
      "source": [
        "list(flights.columns).index('MONTH',)\n",
        "list(flights.columns).index('DAY',)\n",
        "list(flights.columns).index('DAY_OF_WEEK',)\n",
        "# list(flights.columns).index('WHEELS_ON',)\n",
        "# list(flights.columns).index('DESTINATION_AIRPORT',)"
      ],
      "metadata": {
        "id": "-fX2KScOL4dx",
        "colab": {
          "base_uri": "https://localhost:8080/"
        },
        "outputId": "1fce8f04-447c-411b-95df-5f960bd34205"
      },
      "execution_count": null,
      "outputs": [
        {
          "output_type": "execute_result",
          "data": {
            "text/plain": [
              "3"
            ]
          },
          "metadata": {},
          "execution_count": 3
        }
      ]
    },
    {
      "cell_type": "markdown",
      "source": [
        "Criando dummies para month, day e day_of_week por terem poucas categorias"
      ],
      "metadata": {
        "id": "oqHOW9BqRVRP"
      }
    },
    {
      "cell_type": "code",
      "source": [
        "from sklearn.compose import ColumnTransformer\n",
        "from sklearn.preprocessing import OneHotEncoder\n",
        "import numpy as np\n",
        "ct = ColumnTransformer(transformers=[('encoder', OneHotEncoder(), [3])], remainder='passthrough')\n",
        "flights = np.array(ct.fit_transform(flights))\n",
        "# ct = ColumnTransformer(transformers=[('encoder', OneHotEncoder(), [6,7])], remainder='passthrough')\n",
        "# flights = np.array(ct.fit_transform(flights))"
      ],
      "metadata": {
        "id": "tWrL1HYMBRWW"
      },
      "execution_count": null,
      "outputs": []
    },
    {
      "cell_type": "code",
      "source": [
        "from sklearn.preprocessing import LabelEncoder\n",
        "le = LabelEncoder()\n",
        "flights['MONTH'] = le.fit_transform(flights['MONTH'])\n",
        "flights['DAY'] = le.fit_transform(flights['DAY'])\n",
        "flights['DAY_OF_WEEK'] = le.fit_transform(flights['DAY_OF_WEEK'])\n",
        "flights['AIRLINE'] = le.fit_transform(flights['AIRLINE'])\n",
        "flights['FLIGHT_NUMBER'] = le.fit_transform(flights['FLIGHT_NUMBER'])\n",
        "flights['TAIL_NUMBER'] = le.fit_transform(flights['TAIL_NUMBER'])\n",
        "flights['ORIGIN_AIRPORT']=flights['ORIGIN_AIRPORT'].astype(str)\n",
        "flights['ORIGIN_AIRPORT'] = le.fit_transform(flights['ORIGIN_AIRPORT'])\n",
        "flights['DESTINATION_AIRPORT']=flights['DESTINATION_AIRPORT'].astype(str)"
      ],
      "metadata": {
        "id": "rMY6-zoWUm84"
      },
      "execution_count": null,
      "outputs": []
    },
    {
      "cell_type": "code",
      "source": [
        "flights['DAY_OF_WEEK']"
      ],
      "metadata": {
        "id": "0HXVo3pgSPKG"
      },
      "execution_count": null,
      "outputs": []
    },
    {
      "cell_type": "markdown",
      "source": [
        "Tirando variáveis categóricas com categorias demais\n",
        "\n",
        "- Não consegui usar o one hot encoder para criar dummie variables\n",
        "\n"
      ],
      "metadata": {
        "id": "n8QbyMR6FABx"
      }
    },
    {
      "cell_type": "code",
      "source": [
        "flights = flights.drop(['AIRLINE'], axis=1)\n",
        "flights = flights.drop(['FLIGHT_NUMBER'], axis=1)\n",
        "flights = flights.drop(['TAIL_NUMBER'], axis=1)\n",
        "flights = flights.drop(['ORIGIN_AIRPORT'], axis=1)\n",
        "flights = flights.drop(['DESTINATION_AIRPORT'], axis=1)\n"
      ],
      "metadata": {
        "id": "7DFgyUDPVg1g"
      },
      "execution_count": null,
      "outputs": []
    },
    {
      "cell_type": "code",
      "source": [
        "flights.columns"
      ],
      "metadata": {
        "id": "MnqCT749b_yt"
      },
      "execution_count": null,
      "outputs": []
    },
    {
      "cell_type": "markdown",
      "source": [
        "# Dividindo o dataset em treino e teste"
      ],
      "metadata": {
        "id": "bIr7m2J2A61_"
      }
    },
    {
      "cell_type": "markdown",
      "source": [
        "Criando a coluna que indica se o vôo atrasou ou não (0 se sim e 1 caso não)"
      ],
      "metadata": {
        "id": "nzDpEf8AcEL2"
      }
    },
    {
      "cell_type": "code",
      "source": [
        "array=[]\n",
        "for x in flights['ARRIVAL_DELAY']:\n",
        "  variable = 0 if x>0 else 1\n",
        "  array.append(variable)\n",
        "\n",
        "flights['ARRIVAL_DELAY'] = array"
      ],
      "metadata": {
        "id": "FSHBOjnzTDRb"
      },
      "execution_count": null,
      "outputs": []
    },
    {
      "cell_type": "code",
      "source": [
        "from sklearn.model_selection import train_test_split\n",
        "var_indexes =[3,4,5,6,7,8,9,10,11,12,13,14,15,17,18]\n",
        "X = flights.iloc[:, var_indexes].values\n",
        "y = flights['ARRIVAL_DELAY'].values\n",
        "X_train, X_test, y_train, y_test = train_test_split(X, y, test_size = 0.2, random_state = 1)"
      ],
      "metadata": {
        "id": "mXOWcSqrA_E2"
      },
      "execution_count": null,
      "outputs": []
    },
    {
      "cell_type": "code",
      "source": [
        "flights.columns"
      ],
      "metadata": {
        "id": "g1azjEj7Wjaa"
      },
      "execution_count": null,
      "outputs": []
    },
    {
      "cell_type": "markdown",
      "source": [
        "# Feature Scalling"
      ],
      "metadata": {
        "id": "wCknkL05T_5M"
      }
    },
    {
      "cell_type": "code",
      "source": [
        "from sklearn.preprocessing import StandardScaler\n",
        "sc = StandardScaler()\n",
        "X_train = sc.fit_transform(X_train)\n",
        "X_test = sc.transform(X_test)"
      ],
      "metadata": {
        "id": "QC5co5maEGTv"
      },
      "execution_count": null,
      "outputs": []
    },
    {
      "cell_type": "code",
      "source": [
        "X_test"
      ],
      "metadata": {
        "colab": {
          "base_uri": "https://localhost:8080/"
        },
        "id": "VKdgFLB-dlOZ",
        "outputId": "bafb2277-2256-4c51-8145-ed03d209861d"
      },
      "execution_count": null,
      "outputs": [
        {
          "output_type": "execute_result",
          "data": {
            "text/plain": [
              "array([[ 1.2719537 ,  1.23416608, -0.17185834, ...,  1.1921276 ,\n",
              "        -0.05101285, -0.12510682],\n",
              "       [-1.05380666, -0.81061864,  1.71231913, ..., -0.71550618,\n",
              "        -0.05101285, -0.12510682],\n",
              "       [ 0.36645767,  0.37596087,  0.15114351, ...,  0.63161767,\n",
              "        -0.05101285, -0.12510682],\n",
              "       ...,\n",
              "       [ 1.86114633,  1.79018636, -0.41410973, ...,  1.61203503,\n",
              "        -0.05101285, -0.12510682],\n",
              "       [ 1.08589287,  1.03472402, -0.41410973, ...,  1.23012827,\n",
              "        -0.05101285, -0.12510682],\n",
              "       [ 0.40366984,  0.3739463 , -0.36027609, ...,  0.51381559,\n",
              "        -0.05101285, -0.12510682]])"
            ]
          },
          "metadata": {},
          "execution_count": 39
        }
      ]
    },
    {
      "cell_type": "markdown",
      "source": [
        "# Aplicando e selecionando modelos de regressão"
      ],
      "metadata": {
        "id": "HTOA4hhNBAbS"
      }
    },
    {
      "cell_type": "code",
      "source": [
        "# Naive Bayes\n",
        "from sklearn.naive_bayes import GaussianNB\n",
        "classifier = GaussianNB()\n",
        "classifier.fit(X_train, y_train)"
      ],
      "metadata": {
        "colab": {
          "base_uri": "https://localhost:8080/"
        },
        "id": "WN3n8ry5Rvs-",
        "outputId": "9841c75f-9f11-467a-ca90-219a63138281"
      },
      "execution_count": null,
      "outputs": [
        {
          "output_type": "execute_result",
          "data": {
            "text/plain": [
              "GaussianNB()"
            ]
          },
          "metadata": {},
          "execution_count": 16
        }
      ]
    },
    {
      "cell_type": "code",
      "source": [
        "y_pred = classifier.predict(X_test)\n",
        "print(np.concatenate((y_pred.reshape(len(y_pred),1), y_test.reshape(len(y_test),1)),1))"
      ],
      "metadata": {
        "colab": {
          "base_uri": "https://localhost:8080/"
        },
        "id": "NGCmnmSfUJM5",
        "outputId": "58b8962e-ee8f-47ad-9a56-dbd21d5fbcc3"
      },
      "execution_count": null,
      "outputs": [
        {
          "output_type": "stream",
          "name": "stdout",
          "text": [
            "[[0 0]\n",
            " [0 1]\n",
            " [0 1]\n",
            " ...\n",
            " [0 1]\n",
            " [0 0]\n",
            " [0 1]]\n"
          ]
        }
      ]
    },
    {
      "cell_type": "code",
      "source": [
        "from sklearn.metrics import confusion_matrix, accuracy_score\n",
        "cm = confusion_matrix(y_test, y_pred)\n",
        "print(cm)\n",
        "accuracy_score(y_test, y_pred)"
      ],
      "metadata": {
        "colab": {
          "base_uri": "https://localhost:8080/"
        },
        "id": "PwCIVjB_1hZD",
        "outputId": "000217f5-bfe6-4caf-8e36-ceb9a52ad5ac"
      },
      "execution_count": null,
      "outputs": [
        {
          "output_type": "stream",
          "name": "stdout",
          "text": [
            "[[175003      0]\n",
            " [280306   9858]]\n"
          ]
        },
        {
          "output_type": "execute_result",
          "data": {
            "text/plain": [
              "0.39740781267802744"
            ]
          },
          "metadata": {},
          "execution_count": 18
        }
      ]
    },
    {
      "cell_type": "code",
      "source": [
        "# Random forest\n",
        "\n",
        "from sklearn.ensemble import RandomForestClassifier\n",
        "classifier = RandomForestClassifier(n_estimators = 5, criterion = 'entropy', random_state = 0)\n",
        "classifier.fit(X_train, y_train)"
      ],
      "metadata": {
        "colab": {
          "base_uri": "https://localhost:8080/"
        },
        "id": "L_ijTTpeiz80",
        "outputId": "fe9106ec-7cc5-4438-813e-3dd34a75ba4a"
      },
      "execution_count": null,
      "outputs": [
        {
          "output_type": "execute_result",
          "data": {
            "text/plain": [
              "RandomForestClassifier(criterion='entropy', n_estimators=5, random_state=0)"
            ]
          },
          "metadata": {},
          "execution_count": 19
        }
      ]
    },
    {
      "cell_type": "code",
      "source": [
        "y_pred = classifier.predict(X_test)\n",
        "print(np.concatenate((y_pred.reshape(len(y_pred),1), y_test.reshape(len(y_test),1)),1))"
      ],
      "metadata": {
        "colab": {
          "base_uri": "https://localhost:8080/"
        },
        "id": "Oy0h73YPi82i",
        "outputId": "cfe75002-c7a9-435b-b529-ce276a43e3dd"
      },
      "execution_count": null,
      "outputs": [
        {
          "output_type": "stream",
          "name": "stdout",
          "text": [
            "[[0 0]\n",
            " [1 1]\n",
            " [1 1]\n",
            " ...\n",
            " [1 1]\n",
            " [1 0]\n",
            " [1 1]]\n"
          ]
        }
      ]
    },
    {
      "cell_type": "code",
      "source": [
        "from sklearn.metrics import confusion_matrix, accuracy_score\n",
        "cm = confusion_matrix(y_test, y_pred)\n",
        "print(cm)\n",
        "accuracy_score(y_test, y_pred)"
      ],
      "metadata": {
        "colab": {
          "base_uri": "https://localhost:8080/"
        },
        "id": "lwjgrKKejBQB",
        "outputId": "fb94be05-25d4-419b-c2cb-48ddb96ef553"
      },
      "execution_count": null,
      "outputs": [
        {
          "output_type": "stream",
          "name": "stdout",
          "text": [
            "[[160522  14481]\n",
            " [  9871 280293]]\n"
          ]
        },
        {
          "output_type": "execute_result",
          "data": {
            "text/plain": [
              "0.9476489088864859"
            ]
          },
          "metadata": {},
          "execution_count": 21
        }
      ]
    },
    {
      "cell_type": "code",
      "source": [
        "# SVM\n",
        "\n",
        "# o SVM está demorando muito então pensei em diminuir a quantidade de teste para ele terminar de rodar\n",
        "X_SVM_train, X_SVM_test, y_SVM_train, y_SVM_test = train_test_split(X, y, test_size = 0.5, random_state = 1)\n",
        "\n",
        "from sklearn.svm import SVC\n",
        "classifier = SVC(kernel = 'linear', random_state = 0)\n",
        "classifier.fit(X_SVM_train, y_SVM_train)\n"
      ],
      "metadata": {
        "id": "2kBY2do-1PSp"
      },
      "execution_count": null,
      "outputs": []
    },
    {
      "cell_type": "code",
      "source": [
        "y_SVM_pred = classifier.predict(X_SVM_test)\n",
        "print(np.concatenate((y_SVM_pred.reshape(len(y_SVM_pred),1), y_test.reshape(len(y_SVM_test),1)),1))"
      ],
      "metadata": {
        "id": "7UeMOL_B1Yvq"
      },
      "execution_count": null,
      "outputs": []
    },
    {
      "cell_type": "code",
      "source": [
        "from sklearn.metrics import confusion_matrix, accuracy_score\n",
        "cm = confusion_matrix(y_SVM_test, y_pred)\n",
        "print(cm)\n",
        "accuracy_score(y_SVM_test, y_pred)"
      ],
      "metadata": {
        "id": "FyWDmnXv1ZUE"
      },
      "execution_count": null,
      "outputs": []
    },
    {
      "cell_type": "markdown",
      "source": [
        "# Avaliando o Modelo\n"
      ],
      "metadata": {
        "id": "RQSZBJ5vUqaq"
      }
    },
    {
      "cell_type": "markdown",
      "source": [
        "Confusion Matrix"
      ],
      "metadata": {
        "id": "7HxoQv96Utvu"
      }
    },
    {
      "cell_type": "code",
      "source": [
        "from sklearn.metrics import confusion_matrix, accuracy_score\n",
        "cm = confusion_matrix(y_test, y_pred)\n",
        "print(cm)\n",
        "accuracy_score(y_test, y_pred)"
      ],
      "metadata": {
        "id": "j7II8zZ-Uwdg"
      },
      "execution_count": null,
      "outputs": []
    },
    {
      "cell_type": "markdown",
      "source": [
        "# **Considerações finais**\n",
        "\n"
      ],
      "metadata": {
        "id": "0qRlypTCSlQz"
      }
    },
    {
      "cell_type": "markdown",
      "source": [
        "Foram testados dois modelos de classificação random forest e naive bayes. \n",
        "O reultado do Naives bayes foi um pouco baixo, com 39,7%, porém não apresentou falsos negativos, o que é importante caso a classificação errônea seja crítica para o planejamentos dos vôos.\n",
        "\n",
        "O resultado so random forest foi considerado bom, com acurácia de 94,7%, com alguns erros falsos positivos, porém pode ser interessante caso a classificação de falsos positivos não seja crítica para o planejamento dos vôos."
      ],
      "metadata": {
        "id": "N0BcIVcSk1yr"
      }
    },
    {
      "cell_type": "markdown",
      "source": [],
      "metadata": {
        "id": "xe-ykOWgEGFH"
      }
    }
  ]
}